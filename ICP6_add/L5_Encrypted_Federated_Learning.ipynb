{
  "nbformat": 4,
  "nbformat_minor": 0,
  "metadata": {
    "colab": {
      "name": "L5 - Encrypted Federated Learning.ipynb",
      "version": "0.3.2",
      "provenance": [],
      "collapsed_sections": [],
      "include_colab_link": true
    },
    "language_info": {
      "codemirror_mode": {
        "name": "ipython",
        "version": 3
      },
      "file_extension": ".py",
      "mimetype": "text/x-python",
      "name": "python",
      "nbconvert_exporter": "python",
      "pygments_lexer": "ipython3",
      "version": "3.6.1"
    },
    "kernelspec": {
      "display_name": "Python 3",
      "language": "python",
      "name": "python3"
    }
  },
  "cells": [
    {
      "cell_type": "markdown",
      "metadata": {
        "id": "view-in-github",
        "colab_type": "text"
      },
      "source": [
        "<a href=\"https://colab.research.google.com/github/veereshthotigar/CSEE5590-490-AI-CyberSecurity-/blob/master/ICP6_add/L5_Encrypted_Federated_Learning.ipynb\" target=\"_parent\"><img src=\"https://colab.research.google.com/assets/colab-badge.svg\" alt=\"Open In Colab\"/></a>"
      ]
    },
    {
      "cell_type": "markdown",
      "metadata": {
        "id": "_-9zRNvlyg8d",
        "colab_type": "text"
      },
      "source": [
        "# Section: Securing Federated Learning\n",
        "\n",
        "- Lesson 1: Trusted Aggregator\n",
        "- Lesson 2: Intro to Additive Secret Sharing\n",
        "- Lesson 3: Intro to Fixed Precision Encoding\n",
        "- Lesson 4: Secret Sharing + Fixed Precision in PySyft\n",
        "- Final Project: Federated Learning wtih Encrypted Gradient Aggregation"
      ]
    },
    {
      "cell_type": "markdown",
      "metadata": {
        "id": "KpoP5r4pyg8e",
        "colab_type": "text"
      },
      "source": [
        "# Lesson: Federated Learning with a Trusted Aggregator\n",
        "\n",
        "In the last section, we learned how to train a model on a distributed dataset using Federated Learning. In particular, the last project aggregated gradients directly from one data owner to another. \n",
        "\n",
        "However, while in some cases it could be ideal to do this, what would be even better is to be able to choose a neutral third party to perform the aggregation.\n",
        "\n",
        "As it turns out, we can use the same tools we used previously to accomplish this."
      ]
    },
    {
      "cell_type": "markdown",
      "metadata": {
        "id": "I_p_SUmJyg8f",
        "colab_type": "text"
      },
      "source": [
        "# Project: Federated Learning with a Trusted Aggregator"
      ]
    },
    {
      "cell_type": "markdown",
      "metadata": {
        "id": "co2Ce0CNyg8g",
        "colab_type": "text"
      },
      "source": [
        "### Step 1: Create Data Owners"
      ]
    },
    {
      "cell_type": "code",
      "metadata": {
        "id": "uH_EmY1EysB1",
        "colab_type": "code",
        "outputId": "d371c527-1186-4ed8-fa67-121f3503511e",
        "colab": {
          "base_uri": "https://localhost:8080/",
          "height": 1000
        }
      },
      "source": [
        "!pip install syft"
      ],
      "execution_count": 1,
      "outputs": [
        {
          "output_type": "stream",
          "text": [
            "Collecting syft\n",
            "\u001b[?25l  Downloading https://files.pythonhosted.org/packages/38/2e/16bdefc78eb089e1efa9704c33b8f76f035a30dc935bedd7cbb22f6dabaa/syft-0.1.21a1-py3-none-any.whl (219kB)\n",
            "\u001b[K     |████████████████████████████████| 225kB 1.8MB/s \n",
            "\u001b[?25hCollecting flask-socketio>=3.3.2 (from syft)\n",
            "  Downloading https://files.pythonhosted.org/packages/4b/68/fe4806d3a0a5909d274367eb9b3b87262906c1515024f46c2443a36a0c82/Flask_SocketIO-4.1.0-py2.py3-none-any.whl\n",
            "Requirement already satisfied: numpy>=1.14.0 in /usr/local/lib/python3.6/dist-packages (from syft) (1.16.4)\n",
            "Collecting lz4>=2.1.6 (from syft)\n",
            "\u001b[?25l  Downloading https://files.pythonhosted.org/packages/0a/c6/96bbb3525a63ebc53ea700cc7d37ab9045542d33b4d262d0f0408ad9bbf2/lz4-2.1.10-cp36-cp36m-manylinux1_x86_64.whl (385kB)\n",
            "\u001b[K     |████████████████████████████████| 389kB 35.3MB/s \n",
            "\u001b[?25hRequirement already satisfied: torch>=1.1 in /usr/local/lib/python3.6/dist-packages (from syft) (1.1.0)\n",
            "Requirement already satisfied: Flask>=1.0.2 in /usr/local/lib/python3.6/dist-packages (from syft) (1.0.3)\n",
            "Collecting zstd>=1.4.0.0 (from syft)\n",
            "\u001b[?25l  Downloading https://files.pythonhosted.org/packages/8e/27/1ea8086d37424e83ab692015cc8dd7d5e37cf791e339633a40dc828dfb74/zstd-1.4.0.0.tar.gz (450kB)\n",
            "\u001b[K     |████████████████████████████████| 450kB 44.4MB/s \n",
            "\u001b[?25hCollecting tf-encrypted>=0.5.4 (from syft)\n",
            "\u001b[?25l  Downloading https://files.pythonhosted.org/packages/07/ce/da9916e7e78f736894b15538b702c0b213fd5d60a7fd6e481d74033a90c0/tf_encrypted-0.5.6-py3-none-manylinux1_x86_64.whl (1.4MB)\n",
            "\u001b[K     |████████████████████████████████| 1.4MB 27.1MB/s \n",
            "\u001b[?25hCollecting msgpack>=0.6.1 (from syft)\n",
            "\u001b[?25l  Downloading https://files.pythonhosted.org/packages/92/7e/ae9e91c1bb8d846efafd1f353476e3fd7309778b582d2fb4cea4cc15b9a2/msgpack-0.6.1-cp36-cp36m-manylinux1_x86_64.whl (248kB)\n",
            "\u001b[K     |████████████████████████████████| 256kB 41.0MB/s \n",
            "\u001b[?25hRequirement already satisfied: scikit-learn>=0.21.0 in /usr/local/lib/python3.6/dist-packages (from syft) (0.21.2)\n",
            "Requirement already satisfied: tblib>=1.4.0 in /usr/local/lib/python3.6/dist-packages (from syft) (1.4.0)\n",
            "Collecting websocket-client>=0.56.0 (from syft)\n",
            "\u001b[?25l  Downloading https://files.pythonhosted.org/packages/29/19/44753eab1fdb50770ac69605527e8859468f3c0fd7dc5a76dd9c4dbd7906/websocket_client-0.56.0-py2.py3-none-any.whl (200kB)\n",
            "\u001b[K     |████████████████████████████████| 204kB 41.7MB/s \n",
            "\u001b[?25hRequirement already satisfied: torchvision>=0.3.0 in /usr/local/lib/python3.6/dist-packages (from syft) (0.3.0)\n",
            "Collecting websockets>=7.0 (from syft)\n",
            "\u001b[?25l  Downloading https://files.pythonhosted.org/packages/61/5e/2fe6afbb796c6ac5c006460b5503cd674d33706660337f2dbff10d4aa12d/websockets-8.0-cp36-cp36m-manylinux1_x86_64.whl (72kB)\n",
            "\u001b[K     |████████████████████████████████| 81kB 26.5MB/s \n",
            "\u001b[?25hCollecting python-socketio>=2.1.0 (from flask-socketio>=3.3.2->syft)\n",
            "\u001b[?25l  Downloading https://files.pythonhosted.org/packages/26/1b/57e860a86f2a01be86ae1dacfa0cd8c4dfbfcd4593322268b61b5a07b564/python_socketio-4.2.0-py2.py3-none-any.whl (46kB)\n",
            "\u001b[K     |████████████████████████████████| 51kB 19.5MB/s \n",
            "\u001b[?25hRequirement already satisfied: Werkzeug>=0.14 in /usr/local/lib/python3.6/dist-packages (from Flask>=1.0.2->syft) (0.15.4)\n",
            "Requirement already satisfied: click>=5.1 in /usr/local/lib/python3.6/dist-packages (from Flask>=1.0.2->syft) (7.0)\n",
            "Requirement already satisfied: itsdangerous>=0.24 in /usr/local/lib/python3.6/dist-packages (from Flask>=1.0.2->syft) (1.1.0)\n",
            "Requirement already satisfied: Jinja2>=2.10 in /usr/local/lib/python3.6/dist-packages (from Flask>=1.0.2->syft) (2.10.1)\n",
            "Collecting pyyaml>=5.1 (from tf-encrypted>=0.5.4->syft)\n",
            "\u001b[?25l  Downloading https://files.pythonhosted.org/packages/a3/65/837fefac7475963d1eccf4aa684c23b95aa6c1d033a2c5965ccb11e22623/PyYAML-5.1.1.tar.gz (274kB)\n",
            "\u001b[K     |████████████████████████████████| 276kB 42.1MB/s \n",
            "\u001b[?25hRequirement already satisfied: tensorflow<2,>=1.12.0 in /usr/local/lib/python3.6/dist-packages (from tf-encrypted>=0.5.4->syft) (1.14.0)\n",
            "Requirement already satisfied: joblib>=0.11 in /usr/local/lib/python3.6/dist-packages (from scikit-learn>=0.21.0->syft) (0.13.2)\n",
            "Requirement already satisfied: scipy>=0.17.0 in /usr/local/lib/python3.6/dist-packages (from scikit-learn>=0.21.0->syft) (1.3.0)\n",
            "Requirement already satisfied: six in /usr/local/lib/python3.6/dist-packages (from websocket-client>=0.56.0->syft) (1.12.0)\n",
            "Requirement already satisfied: pillow>=4.1.1 in /usr/local/lib/python3.6/dist-packages (from torchvision>=0.3.0->syft) (4.3.0)\n",
            "Collecting python-engineio>=3.8.0 (from python-socketio>=2.1.0->flask-socketio>=3.3.2->syft)\n",
            "\u001b[?25l  Downloading https://files.pythonhosted.org/packages/bd/b8/0fc389ca5c445051b37b17802f80bbf1b51c1e3b48b772ee608efbb90583/python_engineio-3.8.2.post1-py2.py3-none-any.whl (119kB)\n",
            "\u001b[K     |████████████████████████████████| 122kB 40.9MB/s \n",
            "\u001b[?25hRequirement already satisfied: MarkupSafe>=0.23 in /usr/local/lib/python3.6/dist-packages (from Jinja2>=2.10->Flask>=1.0.2->syft) (1.1.1)\n",
            "Requirement already satisfied: wrapt>=1.11.1 in /usr/local/lib/python3.6/dist-packages (from tensorflow<2,>=1.12.0->tf-encrypted>=0.5.4->syft) (1.11.2)\n",
            "Requirement already satisfied: google-pasta>=0.1.6 in /usr/local/lib/python3.6/dist-packages (from tensorflow<2,>=1.12.0->tf-encrypted>=0.5.4->syft) (0.1.7)\n",
            "Requirement already satisfied: termcolor>=1.1.0 in /usr/local/lib/python3.6/dist-packages (from tensorflow<2,>=1.12.0->tf-encrypted>=0.5.4->syft) (1.1.0)\n",
            "Requirement already satisfied: keras-preprocessing>=1.0.5 in /usr/local/lib/python3.6/dist-packages (from tensorflow<2,>=1.12.0->tf-encrypted>=0.5.4->syft) (1.1.0)\n",
            "Requirement already satisfied: gast>=0.2.0 in /usr/local/lib/python3.6/dist-packages (from tensorflow<2,>=1.12.0->tf-encrypted>=0.5.4->syft) (0.2.2)\n",
            "Requirement already satisfied: grpcio>=1.8.6 in /usr/local/lib/python3.6/dist-packages (from tensorflow<2,>=1.12.0->tf-encrypted>=0.5.4->syft) (1.15.0)\n",
            "Requirement already satisfied: wheel>=0.26 in /usr/local/lib/python3.6/dist-packages (from tensorflow<2,>=1.12.0->tf-encrypted>=0.5.4->syft) (0.33.4)\n",
            "Requirement already satisfied: keras-applications>=1.0.6 in /usr/local/lib/python3.6/dist-packages (from tensorflow<2,>=1.12.0->tf-encrypted>=0.5.4->syft) (1.0.8)\n",
            "Requirement already satisfied: protobuf>=3.6.1 in /usr/local/lib/python3.6/dist-packages (from tensorflow<2,>=1.12.0->tf-encrypted>=0.5.4->syft) (3.7.1)\n",
            "Requirement already satisfied: tensorboard<1.15.0,>=1.14.0 in /usr/local/lib/python3.6/dist-packages (from tensorflow<2,>=1.12.0->tf-encrypted>=0.5.4->syft) (1.14.0)\n",
            "Requirement already satisfied: astor>=0.6.0 in /usr/local/lib/python3.6/dist-packages (from tensorflow<2,>=1.12.0->tf-encrypted>=0.5.4->syft) (0.8.0)\n",
            "Requirement already satisfied: tensorflow-estimator<1.15.0rc0,>=1.14.0rc0 in /usr/local/lib/python3.6/dist-packages (from tensorflow<2,>=1.12.0->tf-encrypted>=0.5.4->syft) (1.14.0)\n",
            "Requirement already satisfied: absl-py>=0.7.0 in /usr/local/lib/python3.6/dist-packages (from tensorflow<2,>=1.12.0->tf-encrypted>=0.5.4->syft) (0.7.1)\n",
            "Requirement already satisfied: olefile in /usr/local/lib/python3.6/dist-packages (from pillow>=4.1.1->torchvision>=0.3.0->syft) (0.46)\n",
            "Requirement already satisfied: h5py in /usr/local/lib/python3.6/dist-packages (from keras-applications>=1.0.6->tensorflow<2,>=1.12.0->tf-encrypted>=0.5.4->syft) (2.8.0)\n",
            "Requirement already satisfied: setuptools in /usr/local/lib/python3.6/dist-packages (from protobuf>=3.6.1->tensorflow<2,>=1.12.0->tf-encrypted>=0.5.4->syft) (41.0.1)\n",
            "Requirement already satisfied: markdown>=2.6.8 in /usr/local/lib/python3.6/dist-packages (from tensorboard<1.15.0,>=1.14.0->tensorflow<2,>=1.12.0->tf-encrypted>=0.5.4->syft) (3.1.1)\n",
            "Building wheels for collected packages: zstd, pyyaml\n",
            "  Building wheel for zstd (setup.py) ... \u001b[?25l\u001b[?25hdone\n",
            "  Stored in directory: /root/.cache/pip/wheels/ad/9a/f4/3105b5209674ac77fcca7fede95184c62a95df0196888e0e76\n",
            "  Building wheel for pyyaml (setup.py) ... \u001b[?25l\u001b[?25hdone\n",
            "  Stored in directory: /root/.cache/pip/wheels/16/27/a1/775c62ddea7bfa62324fd1f65847ed31c55dadb6051481ba3f\n",
            "Successfully built zstd pyyaml\n",
            "Installing collected packages: python-engineio, python-socketio, flask-socketio, lz4, zstd, pyyaml, tf-encrypted, msgpack, websocket-client, websockets, syft\n",
            "  Found existing installation: PyYAML 3.13\n",
            "    Uninstalling PyYAML-3.13:\n",
            "      Successfully uninstalled PyYAML-3.13\n",
            "  Found existing installation: msgpack 0.5.6\n",
            "    Uninstalling msgpack-0.5.6:\n",
            "      Successfully uninstalled msgpack-0.5.6\n",
            "Successfully installed flask-socketio-4.1.0 lz4-2.1.10 msgpack-0.6.1 python-engineio-3.8.2.post1 python-socketio-4.2.0 pyyaml-5.1.1 syft-0.1.21a1 tf-encrypted-0.5.6 websocket-client-0.56.0 websockets-8.0 zstd-1.4.0.0\n"
          ],
          "name": "stdout"
        }
      ]
    },
    {
      "cell_type": "code",
      "metadata": {
        "id": "KKg8RQSqyg8g",
        "colab_type": "code",
        "outputId": "11c35a4c-d2b5-4be8-b359-efe0ce376d93",
        "colab": {
          "base_uri": "https://localhost:8080/",
          "height": 105
        }
      },
      "source": [
        "import syft as sy\n",
        "import torch as th\n",
        "from torch import nn, optim\n",
        "\n",
        "hook = sy.TorchHook(th)"
      ],
      "execution_count": 0,
      "outputs": [
        {
          "output_type": "stream",
          "text": [
            "WARNING: Logging before flag parsing goes to stderr.\n",
            "W0709 23:52:43.418392 140194814519168 secure_random.py:26] Falling back to insecure randomness since the required custom op could not be found for the installed version of TensorFlow. Fix this by compiling custom ops. Missing file was '/usr/local/lib/python3.6/dist-packages/tf_encrypted/operations/secure_random/secure_random_module_tf_1.14.0.so'\n",
            "W0709 23:52:43.446295 140194814519168 deprecation_wrapper.py:119] From /usr/local/lib/python3.6/dist-packages/tf_encrypted/session.py:26: The name tf.Session is deprecated. Please use tf.compat.v1.Session instead.\n",
            "\n"
          ],
          "name": "stderr"
        }
      ]
    },
    {
      "cell_type": "code",
      "metadata": {
        "id": "brR-QwtByovp",
        "colab_type": "code",
        "outputId": "527b6de6-89a0-4950-dabc-f7d2d5e684fb",
        "colab": {
          "base_uri": "https://localhost:8080/",
          "height": 156
        }
      },
      "source": [
        "# create a couple workers\n",
        "\n",
        "bob = sy.VirtualWorker(hook, id=\"bob\")\n",
        "alice = sy.VirtualWorker(hook, id=\"alice\")\n",
        "ted = sy.VirtualWorker(hook, id=\"ted\")\n",
        "\n",
        "# this step is important in the real-world application.\n",
        "# You need to inform the workers of others existance\n",
        "# you will probably have an ssh or http worker, not a virtual worker.\n",
        "\n",
        "bob.add_workers([alice, ted])\n",
        "alice.add_workers([bob, ted])\n",
        "ted.add_workers([alice, bob])"
      ],
      "execution_count": 0,
      "outputs": [
        {
          "output_type": "stream",
          "text": [
            "W0709 23:53:13.103533 140194814519168 base.py:628] Worker alice already exists. Replacing old worker which could cause                     unexpected behavior\n",
            "W0709 23:53:13.107202 140194814519168 base.py:628] Worker ted already exists. Replacing old worker which could cause                     unexpected behavior\n",
            "W0709 23:53:13.110024 140194814519168 base.py:628] Worker bob already exists. Replacing old worker which could cause                     unexpected behavior\n",
            "W0709 23:53:13.112899 140194814519168 base.py:628] Worker ted already exists. Replacing old worker which could cause                     unexpected behavior\n",
            "W0709 23:53:13.115076 140194814519168 base.py:628] Worker alice already exists. Replacing old worker which could cause                     unexpected behavior\n",
            "W0709 23:53:13.117540 140194814519168 base.py:628] Worker bob already exists. Replacing old worker which could cause                     unexpected behavior\n"
          ],
          "name": "stderr"
        },
        {
          "output_type": "execute_result",
          "data": {
            "text/plain": [
              "<VirtualWorker id:ted #objects:0>"
            ]
          },
          "metadata": {
            "tags": []
          },
          "execution_count": 3
        }
      ]
    },
    {
      "cell_type": "code",
      "metadata": {
        "id": "IZ-yj1iEy-0S",
        "colab_type": "code",
        "colab": {}
      },
      "source": [
        "# A Toy Dataset\n",
        "data = th.tensor([[0,0],[0,1],[1,0],[1,1.]], requires_grad=True)\n",
        "target = th.tensor([[0],[0],[1],[1.]], requires_grad=True)\n",
        "\n",
        "# get pointers to training data on each worker by\n",
        "# sending some training data to bob and alice\n",
        "bobs_data = data[0:2].send(bob)\n",
        "bobs_target = target[0:2].send(bob)\n",
        "\n",
        "alices_data = data[2:].send(alice)\n",
        "alices_target = target[2:].send(alice)\n"
      ],
      "execution_count": 0,
      "outputs": []
    },
    {
      "cell_type": "markdown",
      "metadata": {
        "id": "zPinzIzsyg8l",
        "colab_type": "text"
      },
      "source": [
        "### Step 2: Create the Model"
      ]
    },
    {
      "cell_type": "code",
      "metadata": {
        "id": "GuQKR-Ckyg8m",
        "colab_type": "code",
        "colab": {}
      },
      "source": [
        "# Iniitalize A Toy Model\n",
        "model = nn.Linear(2,1)"
      ],
      "execution_count": 0,
      "outputs": []
    },
    {
      "cell_type": "markdown",
      "metadata": {
        "id": "K1Jy5Iukyg8o",
        "colab_type": "text"
      },
      "source": [
        "### Step 3: Send a Copy of The Model to Alice and Bob"
      ]
    },
    {
      "cell_type": "code",
      "metadata": {
        "id": "7bG1JWYzyg8o",
        "colab_type": "code",
        "colab": {}
      },
      "source": [
        "bobs_model = model.copy().send(bob) \n",
        "alices_model = model.copy().send(alice) \n",
        "\n",
        "bobs_opt = optim.SGD(params=bobs_model.parameters(), lr=0.1)\n",
        "alices_opt = optim.SGD(params=alices_model.parameters(), lr=0.1)\n"
      ],
      "execution_count": 0,
      "outputs": []
    },
    {
      "cell_type": "markdown",
      "metadata": {
        "id": "Mdjyo1Gkyg8q",
        "colab_type": "text"
      },
      "source": [
        "### Step 4: Train Bob's and Alice's Models (in parallel)"
      ]
    },
    {
      "cell_type": "code",
      "metadata": {
        "id": "KmtzmlcDyg8r",
        "colab_type": "code",
        "outputId": "7f7db606-7fe1-4d40-e845-bfd15954148a",
        "colab": {
          "base_uri": "https://localhost:8080/",
          "height": 357
        }
      },
      "source": [
        "for i in range(10):\n",
        "\n",
        "    # Train Bob's Model\n",
        "    bobs_opt.zero_grad()\n",
        "    bobs_pred = bobs_model(bobs_data)\n",
        "    bobs_loss = ((bobs_pred - bobs_target)**2).mean()\n",
        "    bobs_loss.backward()\n",
        "\n",
        "    bobs_opt.step()\n",
        "    bobs_loss = bobs_loss.get().data\n",
        "    print(f'Bob loss {bobs_loss}')\n",
        "\n",
        "    # Train Alice's Model\n",
        "    alices_opt.zero_grad()\n",
        "    alices_pred = alices_model(alices_data)\n",
        "    alices_loss = ((alices_pred - alices_target)**2).mean()\n",
        "    alices_loss.backward()\n",
        "\n",
        "    alices_opt.step()\n",
        "    alices_loss = alices_loss.get().data\n",
        "    print(f'alice loss {alices_loss}')\n"
      ],
      "execution_count": 0,
      "outputs": [
        {
          "output_type": "stream",
          "text": [
            "Bob loss 0.08170386403799057\n",
            "alice loss 0.8557154536247253\n",
            "Bob loss 0.05373760685324669\n",
            "alice loss 0.31454747915267944\n",
            "Bob loss 0.037807364016771317\n",
            "alice loss 0.1492169350385666\n",
            "Bob loss 0.02848769538104534\n",
            "alice loss 0.09549886733293533\n",
            "Bob loss 0.022818222641944885\n",
            "alice loss 0.07520535588264465\n",
            "Bob loss 0.01918213441967964\n",
            "alice loss 0.06517563760280609\n",
            "Bob loss 0.01669507659971714\n",
            "alice loss 0.058526940643787384\n",
            "Bob loss 0.014872046187520027\n",
            "alice loss 0.053194135427474976\n",
            "Bob loss 0.013445921242237091\n",
            "alice loss 0.04853921756148338\n",
            "Bob loss 0.012268505059182644\n",
            "alice loss 0.04434875771403313\n"
          ],
          "name": "stdout"
        }
      ]
    },
    {
      "cell_type": "markdown",
      "metadata": {
        "id": "HT6cy1gMyg8s",
        "colab_type": "text"
      },
      "source": [
        "### Step 5: Send Both Updated Models to a Secure Worker"
      ]
    },
    {
      "cell_type": "code",
      "metadata": {
        "id": "3S2qpEoZyg8t",
        "colab_type": "code",
        "colab": {}
      },
      "source": [
        "alices_model.move(ted) # the move function iterates on all objects in alice and call send on it. NOTEICE: inline function\n",
        "bobs_model.move(ted)\n"
      ],
      "execution_count": 0,
      "outputs": []
    },
    {
      "cell_type": "code",
      "metadata": {
        "id": "xEZZbRDx28Kw",
        "colab_type": "code",
        "outputId": "66a483b3-3840-438d-c670-39ee36e1d696",
        "colab": {
          "base_uri": "https://localhost:8080/",
          "height": 153
        }
      },
      "source": [
        "ted._objects # can you identify those objects in the Secure worker?"
      ],
      "execution_count": 0,
      "outputs": [
        {
          "output_type": "execute_result",
          "data": {
            "text/plain": [
              "{35233340024: Parameter containing:\n",
              " tensor([[-0.0992,  0.2106]], requires_grad=True),\n",
              " 39225384585: Parameter containing:\n",
              " tensor([-0.1183], requires_grad=True),\n",
              " 62404059758: Parameter containing:\n",
              " tensor([[0.3419, 0.3992]], requires_grad=True),\n",
              " 70928860650: Parameter containing:\n",
              " tensor([0.4320], requires_grad=True)}"
            ]
          },
          "metadata": {
            "tags": []
          },
          "execution_count": 10
        }
      ]
    },
    {
      "cell_type": "markdown",
      "metadata": {
        "id": "tO9s8TmOyg8v",
        "colab_type": "text"
      },
      "source": [
        "### Step 6: Average The Models"
      ]
    },
    {
      "cell_type": "code",
      "metadata": {
        "id": "0RPMqJTB3wlE",
        "colab_type": "code",
        "outputId": "f7e60893-a9d5-4e78-f523-6e47b22dbe1c",
        "colab": {
          "base_uri": "https://localhost:8080/",
          "height": 34
        }
      },
      "source": [
        "# A pytorch trick: to set the weights: you have to either access the data[idx] \n",
        "# or wrap the set function with (with torch.no_grad():)\n",
        "# below we illustrate the first way\n",
        "# the next cell demonstrates the complete way:\n",
        "\n",
        "model.weight.data[0].set_(((alices_model.weight.data + bobs_model.weight.data) / 2).get())\n",
        "model.bias.data[0].set_(((alices_model.bias.data + bobs_model.bias.data) / 2).get())"
      ],
      "execution_count": 0,
      "outputs": [
        {
          "output_type": "execute_result",
          "data": {
            "text/plain": [
              "tensor([0.1568])"
            ]
          },
          "metadata": {
            "tags": []
          },
          "execution_count": 11
        }
      ]
    },
    {
      "cell_type": "markdown",
      "metadata": {
        "id": "fCLNoxd3yg8y",
        "colab_type": "text"
      },
      "source": [
        "### Step 7: The complete solution over multiple training sessions"
      ]
    },
    {
      "cell_type": "code",
      "metadata": {
        "id": "WUV-_tW2yg80",
        "colab_type": "code",
        "outputId": "a360c6d7-cead-4e2c-c72c-0ea65142b0df",
        "colab": {
          "base_uri": "https://localhost:8080/",
          "height": 187
        }
      },
      "source": [
        "iterations = 10\n",
        "worker_iters = 5\n",
        "\n",
        "for a_iter in range(iterations):\n",
        "\n",
        "    bobs_model = model.copy().send(bob)\n",
        "    alices_model = model.copy().send(alice)\n",
        "\n",
        "    bobs_opt = optim.SGD(params=bobs_model.parameters(), lr=0.1)\n",
        "    alices_opt = optim.SGD(params=alices_model.parameters(), lr=0.1)\n",
        "\n",
        "    for wi in range(worker_iters):\n",
        "        # Train Bob's Model\n",
        "        bobs_opt.zero_grad()\n",
        "        bobs_pred = bobs_model(bobs_data)\n",
        "        bobs_loss = ((bobs_pred - bobs_target) ** 2).sum()\n",
        "        bobs_loss.backward()\n",
        "\n",
        "        bobs_opt.step()\n",
        "        bobs_loss = bobs_loss.get().data\n",
        "\n",
        "        # Train Alice's Model\n",
        "        alices_opt.zero_grad()\n",
        "        alices_pred = alices_model(alices_data)\n",
        "        alices_loss = ((alices_pred - alices_target) ** 2).sum()\n",
        "        alices_loss.backward()\n",
        "\n",
        "        alices_opt.step()\n",
        "        alices_loss = alices_loss.get().data\n",
        "\n",
        "    alices_model.move(ted)\n",
        "    bobs_model.move(ted)\n",
        "\n",
        "    with th.no_grad():\n",
        "\n",
        "        model.weight.set_(((alices_model.weight.data + bobs_model.weight.data) / 2).get())\n",
        "        model.bias.set_(((alices_model.bias.data + bobs_model.bias.data) / 2).get())\n",
        "    \n",
        "    print(\"Bob:\" + str(bobs_loss) + \" Alice:\" + str(alices_loss))"
      ],
      "execution_count": 0,
      "outputs": [
        {
          "output_type": "stream",
          "text": [
            "Bob:tensor(0.0260) Alice:tensor(0.0954)\n",
            "Bob:tensor(0.0067) Alice:tensor(0.0461)\n",
            "Bob:tensor(0.0012) Alice:tensor(0.0212)\n",
            "Bob:tensor(0.0004) Alice:tensor(0.0098)\n",
            "Bob:tensor(0.0007) Alice:tensor(0.0046)\n",
            "Bob:tensor(0.0012) Alice:tensor(0.0022)\n",
            "Bob:tensor(0.0014) Alice:tensor(0.0011)\n",
            "Bob:tensor(0.0014) Alice:tensor(0.0006)\n",
            "Bob:tensor(0.0013) Alice:tensor(0.0003)\n",
            "Bob:tensor(0.0011) Alice:tensor(0.0002)\n"
          ],
          "name": "stdout"
        }
      ]
    },
    {
      "cell_type": "code",
      "metadata": {
        "id": "11abe6ojyg84",
        "colab_type": "code",
        "colab": {}
      },
      "source": [
        "preds = model(data)\n",
        "loss = ((preds - target) ** 2).mean()"
      ],
      "execution_count": 0,
      "outputs": []
    },
    {
      "cell_type": "code",
      "metadata": {
        "id": "u0hsXnTNyg87",
        "colab_type": "code",
        "outputId": "05f72324-2b24-460e-a50d-cae77348db9b",
        "colab": {
          "base_uri": "https://localhost:8080/",
          "height": 170
        }
      },
      "source": [
        "print(preds)\n",
        "print(target)\n",
        "print(loss.data)"
      ],
      "execution_count": 0,
      "outputs": [
        {
          "output_type": "stream",
          "text": [
            "tensor([[0.1081],\n",
            "        [0.0960],\n",
            "        [0.8771],\n",
            "        [0.8651]], grad_fn=<AddmmBackward>)\n",
            "tensor([[0.],\n",
            "        [0.],\n",
            "        [1.],\n",
            "        [1.]], requires_grad=True)\n",
            "tensor(0.0136)\n"
          ],
          "name": "stdout"
        }
      ]
    },
    {
      "cell_type": "markdown",
      "metadata": {
        "id": "76nNRwAIyg89",
        "colab_type": "text"
      },
      "source": [
        "# Lesson: Intro to Additive Secret Sharing\n",
        "\n",
        "While being able to have a trusted third party to perform the aggregation is certainly nice, in an ideal setting we wouldn't have to trust anyone at all. This is where Cryptography can provide an interesting alterantive. \n",
        "\n",
        "Specifically, we're going to be looking at a simple protocol for Secure Multi-Party Computation called Additive Secret Sharing. This protocol will allow multiple parties (of size 3 or more) to aggregate their gradients without the use of a trusted 3rd party to perform the aggregation. In other words, we can add 3 numbers together from 3 different people without anyone ever learning the inputs of any other actors.\n",
        "\n",
        "Let's start by considering the number 5, which we'll put into a varible x"
      ]
    },
    {
      "cell_type": "code",
      "metadata": {
        "id": "AgBkWPGQyg89",
        "colab_type": "code",
        "colab": {}
      },
      "source": [
        "x = 5"
      ],
      "execution_count": 0,
      "outputs": []
    },
    {
      "cell_type": "markdown",
      "metadata": {
        "id": "jmmK50kzyg8_",
        "colab_type": "text"
      },
      "source": [
        "Let's say we wanted to SHARE the ownership of this number between two people, Alice and Bob. We could split this number into two shares, 2, and 3, and give one to Alice and one to Bob"
      ]
    },
    {
      "cell_type": "code",
      "metadata": {
        "id": "T8g8BuYuyg8_",
        "colab_type": "code",
        "outputId": "b4e4f07a-da67-462e-c1ed-c225a68aa3ee",
        "colab": {
          "base_uri": "https://localhost:8080/",
          "height": 34
        }
      },
      "source": [
        "bob_x_share = 2\n",
        "alice_x_share = 3\n",
        "\n",
        "decrypted_x = bob_x_share + alice_x_share\n",
        "decrypted_x"
      ],
      "execution_count": 0,
      "outputs": [
        {
          "output_type": "execute_result",
          "data": {
            "text/plain": [
              "5"
            ]
          },
          "metadata": {
            "tags": []
          },
          "execution_count": 17
        }
      ]
    },
    {
      "cell_type": "markdown",
      "metadata": {
        "id": "kQgRH61vyg9C",
        "colab_type": "text"
      },
      "source": [
        "Note that neither Bob nor Alice know the value of x. They only know the value of their own SHARE of x. Thus, the true value of X is hidden (i.e., encrypted). \n",
        "\n",
        "The truly amazing thing, however, is that Alice and Bob can still compute using this value! They can perform arithmetic over the hidden value! Let's say Bob and Alice wanted to multiply this value by 2! If each of them multiplied their respective share by 2, then the hidden number between them is also multiplied! Check it out!"
      ]
    },
    {
      "cell_type": "code",
      "metadata": {
        "id": "q8dFgnKqyg9C",
        "colab_type": "code",
        "outputId": "8b476a6d-401b-422d-ce7d-367fa85f2153",
        "colab": {
          "base_uri": "https://localhost:8080/",
          "height": 34
        }
      },
      "source": [
        "bob_x_share *= 2\n",
        "alice_x_share *= 2\n",
        "\n",
        "decrypted_x = bob_x_share + alice_x_share\n",
        "decrypted_x"
      ],
      "execution_count": 0,
      "outputs": [
        {
          "output_type": "execute_result",
          "data": {
            "text/plain": [
              "20"
            ]
          },
          "metadata": {
            "tags": []
          },
          "execution_count": 19
        }
      ]
    },
    {
      "cell_type": "markdown",
      "metadata": {
        "id": "z3yKEyfuyg9M",
        "colab_type": "text"
      },
      "source": [
        "This even works for addition between two shared values!!"
      ]
    },
    {
      "cell_type": "code",
      "metadata": {
        "id": "XNeUyPpmyg9N",
        "colab_type": "code",
        "outputId": "5e1a3b6b-a3a0-4ad3-cfe2-7c6336c7129c",
        "colab": {
          "base_uri": "https://localhost:8080/",
          "height": 34
        }
      },
      "source": [
        "# encrypted \"5\"\n",
        "bob_x_share = 2\n",
        "alice_x_share = 3\n",
        "\n",
        "# encrypted \"7\"\n",
        "bob_y_share = 5\n",
        "alice_y_share = 2\n",
        "\n",
        "# encrypted 5 + 7\n",
        "bob_z_share = bob_x_share + bob_y_share\n",
        "alice_z_share = alice_x_share + alice_y_share\n",
        "\n",
        "decrypted_z = bob_z_share + alice_z_share\n",
        "decrypted_z"
      ],
      "execution_count": 0,
      "outputs": [
        {
          "output_type": "execute_result",
          "data": {
            "text/plain": [
              "12"
            ]
          },
          "metadata": {
            "tags": []
          },
          "execution_count": 20
        }
      ]
    },
    {
      "cell_type": "markdown",
      "metadata": {
        "id": "bTYo-67Cyg9R",
        "colab_type": "text"
      },
      "source": [
        "As you can see, we just added two numbers together while they were still encrypted ( you are the dealer, thus still can see --and know everything-- but Alice and Bob did not really know anything about the overall deal --the sum of the numbers; the secrete--)\n",
        "\n",
        "In this case, however, to keep the secrete is not about the relaiability / integrity of the person who holds it, rather the fact that those shareholders do not know each other!!!\n",
        "\n",
        "One small tweak - notice that since all our numbers are positive, it's possible for each share to reveal a little bit of information about the hidden value, namely, it's always greater than the share. Thus, if Bob has a share \"3\" then he knows that the encrypted value is at least 3.\n",
        "\n",
        "This would be quite bad, but can be solved through a simple fix. Decryption happens by summing all the shares together MODULUS some constant."
      ]
    },
    {
      "cell_type": "code",
      "metadata": {
        "id": "_-rBg_wXyg9S",
        "colab_type": "code",
        "outputId": "63cc2493-09e7-488d-c54e-ecf659d69339",
        "colab": {
          "base_uri": "https://localhost:8080/",
          "height": 68
        }
      },
      "source": [
        "x = 5\n",
        "\n",
        "Q = 9923 # the little fix; a very large prime number\n",
        "\n",
        "bob_x_share = 1525 # give bob a random number.. try with negatives\n",
        "\n",
        "alice_x_share = Q - bob_x_share + x\n",
        "\n",
        "print(f'Bob share= {bob_x_share}')\n",
        "print(f'Alice share= {alice_x_share}')\n",
        "print(f'Add both shares= {bob_x_share + alice_x_share}... Wrong secrete')"
      ],
      "execution_count": 0,
      "outputs": [
        {
          "output_type": "stream",
          "text": [
            "Bob share= 1525\n",
            "Alice share= 8403\n",
            "Add both shares= 9928... Wrong secrete\n"
          ],
          "name": "stdout"
        }
      ]
    },
    {
      "cell_type": "code",
      "metadata": {
        "id": "bWwHr0-Cyg9W",
        "colab_type": "code",
        "outputId": "f9812e8b-6d2d-4a5b-ab4a-9054cf54c6a3",
        "colab": {
          "base_uri": "https://localhost:8080/",
          "height": 34
        }
      },
      "source": [
        "# Decryption happens by summing all the shares together MODULUS some constant\n",
        "\n",
        "(bob_x_share + alice_x_share) % Q"
      ],
      "execution_count": 0,
      "outputs": [
        {
          "output_type": "execute_result",
          "data": {
            "text/plain": [
              "5"
            ]
          },
          "metadata": {
            "tags": []
          },
          "execution_count": 22
        }
      ]
    },
    {
      "cell_type": "markdown",
      "metadata": {
        "id": "5HObwFt8yg9Z",
        "colab_type": "text"
      },
      "source": [
        "So now, as you can see, both shares are wildly larger than the number being shared, meaning that individual shares no longer leak this inforation. However, all the properties we discussed earlier still hold! (addition, encryption, decryption, etc.)"
      ]
    },
    {
      "cell_type": "markdown",
      "metadata": {
        "id": "OIXwf6S4yg9a",
        "colab_type": "text"
      },
      "source": [
        "# Project: Build Methods for Encrypt, Decrypt, and Add \n",
        "\n",
        "In this project, you must take the lessons we learned in the last section and write general methods for encrypt, decrypt, and add. Store shares for a variable in a tuple like so:  `x_share = (2,5,7)`"
      ]
    },
    {
      "cell_type": "markdown",
      "metadata": {
        "id": "uMz0yE45yg9c",
        "colab_type": "text"
      },
      "source": [
        "Even though normally those shares would be distributed among several workers, you can store them in ordered tuples like this for now."
      ]
    },
    {
      "cell_type": "code",
      "metadata": {
        "id": "aI3TJxw4yg9d",
        "colab_type": "code",
        "colab": {}
      },
      "source": [
        "import random\n",
        "\n",
        "Q = 23740629843760239486723\n",
        "\n",
        "# accepts a secrete and shares it among n_shahre, returns a tuple with n_share shares\n",
        "def encrypt(x, n_share=3):\n",
        "    \n",
        "    shares = list()\n",
        "    \n",
        "    for i in range(n_share-1):\n",
        "        shares.append(random.randint(0,Q))\n",
        "        \n",
        "    shares.append(Q - (sum(shares) % Q) + x)\n",
        "    \n",
        "    return tuple(shares)\n",
        "\n",
        "  # accepts a tuple of shares and return the decrypted values\n",
        "def decrypt(shares):\n",
        "    return sum(shares) % Q"
      ],
      "execution_count": 0,
      "outputs": []
    },
    {
      "cell_type": "code",
      "metadata": {
        "id": "_43oLAEDyg9e",
        "colab_type": "code",
        "outputId": "c65a1a42-ec95-4e09-e8cb-2239da0e68c3",
        "colab": {
          "base_uri": "https://localhost:8080/",
          "height": 187
        }
      },
      "source": [
        "shares = encrypt(x=7, n_share=10)\n",
        "shares"
      ],
      "execution_count": 0,
      "outputs": [
        {
          "output_type": "execute_result",
          "data": {
            "text/plain": [
              "(11948676270872283351394,\n",
              " 8703366766848657753650,\n",
              " 7965477960572691232500,\n",
              " 20276516807477849386333,\n",
              " 11538313535763403723712,\n",
              " 21311047368881788802275,\n",
              " 661528832735043905287,\n",
              " 10535261790964653455099,\n",
              " 14123304741295953884072,\n",
              " 11639655143388871939300)"
            ]
          },
          "metadata": {
            "tags": []
          },
          "execution_count": 24
        }
      ]
    },
    {
      "cell_type": "code",
      "metadata": {
        "id": "CyNaADMKyg9g",
        "colab_type": "code",
        "outputId": "63523d80-c707-48b9-9969-0ca3b565ee3f",
        "colab": {
          "base_uri": "https://localhost:8080/",
          "height": 34
        }
      },
      "source": [
        "decrypt(shares)"
      ],
      "execution_count": 0,
      "outputs": [
        {
          "output_type": "execute_result",
          "data": {
            "text/plain": [
              "7"
            ]
          },
          "metadata": {
            "tags": []
          },
          "execution_count": 25
        }
      ]
    },
    {
      "cell_type": "code",
      "metadata": {
        "id": "I9tKua0Lyg9i",
        "colab_type": "code",
        "colab": {}
      },
      "source": [
        "def add(a, b):\n",
        "    c = list()\n",
        "    assert(len(a) == len(b))\n",
        "    for i in range(len(a)):\n",
        "        c.append((a[i] + b[i]) % Q)\n",
        "    return tuple(c)"
      ],
      "execution_count": 0,
      "outputs": []
    },
    {
      "cell_type": "code",
      "metadata": {
        "id": "gupg7bAKyg9k",
        "colab_type": "code",
        "outputId": "df93ee6b-f18d-4445-bd98-49a33c8695d6",
        "colab": {
          "base_uri": "https://localhost:8080/",
          "height": 68
        }
      },
      "source": [
        "# run this block of code multiple times, what do you notice baout x and y?\n",
        "\n",
        "x = encrypt(5)\n",
        "print(x)\n",
        "y = encrypt(7)\n",
        "print(y)\n",
        "\n",
        "z = add(x,y)\n",
        "decrypt(z)"
      ],
      "execution_count": 0,
      "outputs": [
        {
          "output_type": "stream",
          "text": [
            "(4441645295519819944396, 22043341928151511539064, 20996272463849147489991)\n",
            "(8452578496449999106250, 6447896460833317624504, 8840154886476922755976)\n"
          ],
          "name": "stdout"
        },
        {
          "output_type": "execute_result",
          "data": {
            "text/plain": [
              "12"
            ]
          },
          "metadata": {
            "tags": []
          },
          "execution_count": 27
        }
      ]
    },
    {
      "cell_type": "markdown",
      "metadata": {
        "id": "EmRCxZ6Nyg9m",
        "colab_type": "text"
      },
      "source": [
        "# Lesson: Intro to Fixed Precision Encoding\n",
        "\n",
        "As you may remember, our goal is to aggregate gradients using this new Secret Sharing technique. However, the protocol we've just explored in the last section uses positive integers. However, our neural network weights are NOT integers. Instead, our weights are decimals (floating point numbers).\n",
        "\n",
        "Not a huge deal! We just need to use a fixed precision encoding, which lets us do computation over decimal numbers using integers!"
      ]
    },
    {
      "cell_type": "code",
      "metadata": {
        "id": "SSHHm-Oryg9m",
        "colab_type": "code",
        "colab": {}
      },
      "source": [
        "BASE= 10  # integer numbers (normal numbers)\n",
        "PRECISION= 3  # how many porecisions after the decimal point to encode\n",
        "Q = 23740629843760239486723 "
      ],
      "execution_count": 0,
      "outputs": []
    },
    {
      "cell_type": "code",
      "metadata": {
        "id": "CL3R5pU0yg9o",
        "colab_type": "code",
        "colab": {}
      },
      "source": [
        "def encode(x):\n",
        "    return int((x * (BASE ** PRECISION)) % Q)\n",
        "\n",
        "def decode(x):\n",
        "    return (x if x <= Q/2 else x - Q) / BASE**PRECISION"
      ],
      "execution_count": 0,
      "outputs": []
    },
    {
      "cell_type": "code",
      "metadata": {
        "id": "zwXUQeqpyg9r",
        "colab_type": "code",
        "outputId": "b0f9120e-e649-404d-c89f-c462861a1d47",
        "colab": {
          "base_uri": "https://localhost:8080/",
          "height": 34
        }
      },
      "source": [
        "encode(-0.600)"
      ],
      "execution_count": 0,
      "outputs": [
        {
          "output_type": "execute_result",
          "data": {
            "text/plain": [
              "23740629843760239345664"
            ]
          },
          "metadata": {
            "tags": []
          },
          "execution_count": 32
        }
      ]
    },
    {
      "cell_type": "code",
      "metadata": {
        "id": "Ty3s8XYGyg9v",
        "colab_type": "code",
        "outputId": "17a14630-34e7-46a9-889d-33e66f1d420f",
        "colab": {
          "base_uri": "https://localhost:8080/",
          "height": 34
        }
      },
      "source": [
        "decode(9323)"
      ],
      "execution_count": 0,
      "outputs": [
        {
          "output_type": "execute_result",
          "data": {
            "text/plain": [
              "9.323"
            ]
          },
          "metadata": {
            "tags": []
          },
          "execution_count": 33
        }
      ]
    },
    {
      "cell_type": "code",
      "metadata": {
        "id": "zdFGoHbsyg9y",
        "colab_type": "code",
        "outputId": "67cd7803-a156-4e1d-f34b-cad6e635e355",
        "colab": {
          "base_uri": "https://localhost:8080/",
          "height": 85
        }
      },
      "source": [
        "# run this cell multiple times and notice the changes\n",
        "\n",
        "x = encrypt(encode(5.5))\n",
        "y = encrypt(encode(5.5))\n",
        "z = add(x,y)\n",
        "\n",
        "\n",
        "print(f'Value of x = {x}')\n",
        "print(f'Value of y = {y}')\n",
        "print(f'Value of sum = {z}')\n",
        "print(f'decoded sum = {decode(decrypt(z))}')"
      ],
      "execution_count": 0,
      "outputs": [
        {
          "output_type": "stream",
          "text": [
            "Value of x = (3065453432863962446283, 3919952996103072016334, 16755223414793205029606)\n",
            "Value of y = (3056704016098173129566, 9427043250768801798134, 11256882576893264564523)\n",
            "Value of sum = (6122157448962135575849, 13346996246871873814468, 4271476147926230107406)\n",
            "decoded sum = 11.0\n"
          ],
          "name": "stdout"
        }
      ]
    },
    {
      "cell_type": "markdown",
      "metadata": {
        "id": "4F5ef4l9yg91",
        "colab_type": "text"
      },
      "source": [
        "# Lesson: Secret Sharing + Fixed Precision in PySyft\n",
        "\n",
        "While writing things from scratch is certainly educational, PySyft makes a great deal of this much easier for us through its abstractions."
      ]
    },
    {
      "cell_type": "code",
      "metadata": {
        "id": "lm9L0XPDyg91",
        "colab_type": "code",
        "outputId": "54d21f63-4442-4099-ab7f-33f57e004e2c",
        "colab": {
          "base_uri": "https://localhost:8080/",
          "height": 173
        }
      },
      "source": [
        "# Its a good idea to restrat the environment at this point\n",
        "\n",
        "import syft as sy\n",
        "import torch as th\n",
        "from torch import nn, optim\n",
        "\n",
        "hook = sy.TorchHook(th)\n",
        "\n",
        "# create a couple workers\n",
        "\n",
        "bob = sy.VirtualWorker(hook, id=\"bob\")\n",
        "alice = sy.VirtualWorker(hook, id=\"alice\")\n",
        "ted = sy.VirtualWorker(hook, id=\"ted\")\n",
        "\n",
        "\n",
        "bob.add_workers([alice, ted])\n",
        "alice.add_workers([bob, ted])\n",
        "ted.add_workers([alice, bob])"
      ],
      "execution_count": 0,
      "outputs": [
        {
          "output_type": "stream",
          "text": [
            "W0710 00:00:07.911783 140194814519168 hook.py:98] Torch was already hooked... skipping hooking process\n",
            "W0710 00:00:07.918199 140194814519168 base.py:628] Worker alice already exists. Replacing old worker which could cause                     unexpected behavior\n",
            "W0710 00:00:07.920352 140194814519168 base.py:628] Worker ted already exists. Replacing old worker which could cause                     unexpected behavior\n",
            "W0710 00:00:07.923529 140194814519168 base.py:628] Worker bob already exists. Replacing old worker which could cause                     unexpected behavior\n",
            "W0710 00:00:07.926409 140194814519168 base.py:628] Worker ted already exists. Replacing old worker which could cause                     unexpected behavior\n",
            "W0710 00:00:07.929332 140194814519168 base.py:628] Worker alice already exists. Replacing old worker which could cause                     unexpected behavior\n",
            "W0710 00:00:07.930728 140194814519168 base.py:628] Worker bob already exists. Replacing old worker which could cause                     unexpected behavior\n"
          ],
          "name": "stderr"
        },
        {
          "output_type": "execute_result",
          "data": {
            "text/plain": [
              "<VirtualWorker id:ted #objects:44>"
            ]
          },
          "metadata": {
            "tags": []
          },
          "execution_count": 35
        }
      ]
    },
    {
      "cell_type": "code",
      "metadata": {
        "id": "cCmtFQT_yg94",
        "colab_type": "code",
        "colab": {}
      },
      "source": [
        "x = th.tensor([1,2,3,4,5]) ##### the following steps work for integer values only"
      ],
      "execution_count": 0,
      "outputs": []
    },
    {
      "cell_type": "markdown",
      "metadata": {
        "id": "c9MtKxllyg96",
        "colab_type": "text"
      },
      "source": [
        "### Secret Sharing Using PySyft\n",
        "\n",
        "We can share using the simple` .share()` method!"
      ]
    },
    {
      "cell_type": "code",
      "metadata": {
        "id": "iWPR4vZxyg97",
        "colab_type": "code",
        "outputId": "bf0e3635-19fb-4714-810a-6fe8c01fbca6",
        "colab": {
          "base_uri": "https://localhost:8080/",
          "height": 102
        }
      },
      "source": [
        "x = x.share(bob, alice, ted) # implemets additive secrete shares\n",
        "x # it's a pointer to three secrete shares"
      ],
      "execution_count": 0,
      "outputs": [
        {
          "output_type": "execute_result",
          "data": {
            "text/plain": [
              "(Wrapper)>[AdditiveSharingTensor]\n",
              "\t-> (Wrapper)>[PointerTensor | me:61477190213 -> bob:84555652421]\n",
              "\t-> (Wrapper)>[PointerTensor | me:71026411111 -> alice:19284694165]\n",
              "\t-> (Wrapper)>[PointerTensor | me:30856543992 -> ted:70381051381]\n",
              "\t*crypto provider: me*"
            ]
          },
          "metadata": {
            "tags": []
          },
          "execution_count": 37
        }
      ]
    },
    {
      "cell_type": "code",
      "metadata": {
        "id": "7JnJczV4yg99",
        "colab_type": "code",
        "outputId": "aa3e9f05-c918-4827-8847-0db7ea2e1ffa",
        "colab": {
          "base_uri": "https://localhost:8080/",
          "height": 102
        }
      },
      "source": [
        "bob._objects # take a look at one of the shares.. Large random numbers --encrypted"
      ],
      "execution_count": 0,
      "outputs": [
        {
          "output_type": "execute_result",
          "data": {
            "text/plain": [
              "{12264841642: tensor([[0.],\n",
              "         [0.]], requires_grad=True), 16604174385: tensor([[0., 0.],\n",
              "         [0., 1.]], requires_grad=True), 74026504627: tensor([[ 0.0321],\n",
              "         [-0.0103]], grad_fn=<AddmmBackward>), 84555652421: tensor([3467280445042765661,  509106085931112698, 1800020087709809210,\n",
              "         1492840272511439380, 3390413188523620295])}"
            ]
          },
          "metadata": {
            "tags": []
          },
          "execution_count": 38
        }
      ]
    },
    {
      "cell_type": "markdown",
      "metadata": {
        "id": "jdqiNR6Iyg9-",
        "colab_type": "text"
      },
      "source": [
        "and as you can see, Bob now has one of the shares of x! Furthermore, we can still call addition in this state, and PySyft will automatically perform the remote execution for us!"
      ]
    },
    {
      "cell_type": "code",
      "metadata": {
        "id": "q1uUOV3Fyg9_",
        "colab_type": "code",
        "outputId": "a078ea1c-7aeb-46da-fd2c-4a8eea8ed41b",
        "colab": {
          "base_uri": "https://localhost:8080/",
          "height": 102
        }
      },
      "source": [
        "y = x + x\n",
        "y"
      ],
      "execution_count": 0,
      "outputs": [
        {
          "output_type": "execute_result",
          "data": {
            "text/plain": [
              "(Wrapper)>[AdditiveSharingTensor]\n",
              "\t-> (Wrapper)>[PointerTensor | me:58309431292 -> bob:52168024908]\n",
              "\t-> (Wrapper)>[PointerTensor | me:81364098726 -> alice:95408463803]\n",
              "\t-> (Wrapper)>[PointerTensor | me:82177657038 -> ted:80636918700]\n",
              "\t*crypto provider: me*"
            ]
          },
          "metadata": {
            "tags": []
          },
          "execution_count": 39
        }
      ]
    },
    {
      "cell_type": "code",
      "metadata": {
        "id": "k__hFBeNYBB1",
        "colab_type": "code",
        "outputId": "cc0bef38-46bc-4f79-e79d-e518e9f5f44b",
        "colab": {
          "base_uri": "https://localhost:8080/",
          "height": 119
        }
      },
      "source": [
        "bob._objects # bob has another tensor.. why?"
      ],
      "execution_count": 0,
      "outputs": [
        {
          "output_type": "execute_result",
          "data": {
            "text/plain": [
              "{12264841642: tensor([[0.],\n",
              "         [0.]], requires_grad=True), 16604174385: tensor([[0., 0.],\n",
              "         [0., 1.]], requires_grad=True), 52168024908: tensor([6934560890085531322, 1018212171862225396, 3600040175419618420,\n",
              "         2985680545022878760, 6780826377047240590]), 74026504627: tensor([[ 0.0321],\n",
              "         [-0.0103]], grad_fn=<AddmmBackward>), 84555652421: tensor([3467280445042765661,  509106085931112698, 1800020087709809210,\n",
              "         1492840272511439380, 3390413188523620295])}"
            ]
          },
          "metadata": {
            "tags": []
          },
          "execution_count": 40
        }
      ]
    },
    {
      "cell_type": "code",
      "metadata": {
        "id": "FGsYMXopyg-C",
        "colab_type": "code",
        "outputId": "c7b7dc27-ff5c-480a-afb6-6e4c95eec652",
        "colab": {
          "base_uri": "https://localhost:8080/",
          "height": 34
        }
      },
      "source": [
        "y.get() # notice that we have doubled the values on each worker!"
      ],
      "execution_count": 0,
      "outputs": [
        {
          "output_type": "execute_result",
          "data": {
            "text/plain": [
              "tensor([ 2,  4,  6,  8, 10])"
            ]
          },
          "metadata": {
            "tags": []
          },
          "execution_count": 41
        }
      ]
    },
    {
      "cell_type": "code",
      "metadata": {
        "id": "AErqHN8Sf1PF",
        "colab_type": "code",
        "colab": {}
      },
      "source": [
        ""
      ],
      "execution_count": 0,
      "outputs": []
    },
    {
      "cell_type": "markdown",
      "metadata": {
        "id": "fCTEsZOYyg-E",
        "colab_type": "text"
      },
      "source": [
        "\n",
        "### Fixed Precision using PySyft\n",
        "\n",
        "We can also convert a tensor to fixed precision using `.fix_precision()`\n",
        "This is important when doing FL since the values you are sharing are decimal numbers.\n",
        "\n",
        "**Q: what values are we sharing? what are the shared secretes?**"
      ]
    },
    {
      "cell_type": "code",
      "metadata": {
        "id": "pX4BjzDjyg-E",
        "colab_type": "code",
        "colab": {}
      },
      "source": [
        "x = th.tensor([0.1, 0.2, 0.3, 0.4]) # a decimal tensor!"
      ],
      "execution_count": 0,
      "outputs": []
    },
    {
      "cell_type": "code",
      "metadata": {
        "id": "sFDXAJOcyg-J",
        "colab_type": "code",
        "outputId": "6dfea170-fe55-438c-e355-5fdbe580909a",
        "colab": {
          "base_uri": "https://localhost:8080/",
          "height": 34
        }
      },
      "source": [
        "x"
      ],
      "execution_count": 0,
      "outputs": [
        {
          "output_type": "execute_result",
          "data": {
            "text/plain": [
              "tensor([0.1000, 0.2000, 0.3000, 0.4000])"
            ]
          },
          "metadata": {
            "tags": []
          },
          "execution_count": 43
        }
      ]
    },
    {
      "cell_type": "code",
      "metadata": {
        "id": "r2G36bvmyg-M",
        "colab_type": "code",
        "outputId": "f790450e-f68a-476e-d75d-7ccb17e8cda2",
        "colab": {
          "base_uri": "https://localhost:8080/",
          "height": 34
        }
      },
      "source": [
        "x = x.fix_prec() # call this function to encode the decimal tensor using fixed precision\n",
        "x # notice that this is a tensor chain <-------"
      ],
      "execution_count": 0,
      "outputs": [
        {
          "output_type": "execute_result",
          "data": {
            "text/plain": [
              "(Wrapper)>FixedPrecisionTensor>tensor([100, 200, 300, 400])"
            ]
          },
          "metadata": {
            "tags": []
          },
          "execution_count": 44
        }
      ]
    },
    {
      "cell_type": "code",
      "metadata": {
        "id": "ATcM3Xivad5x",
        "colab_type": "code",
        "outputId": "88fd22a9-e9df-4854-e2cf-e52df0cd5a79",
        "colab": {
          "base_uri": "https://localhost:8080/",
          "height": 68
        }
      },
      "source": [
        "print(f'Type of x {type(x)}')\n",
        "print(f'Type of x.child {type(x.child)}')\n",
        "print(f'Type of x.child.child {type(x.child.child)}') # <-- this is how you get the data from a fixed precision tensor"
      ],
      "execution_count": 0,
      "outputs": [
        {
          "output_type": "stream",
          "text": [
            "Type of x <class 'syft.frameworks.torch.tensors.interpreters.native.Tensor'>\n",
            "Type of x.child <class 'syft.frameworks.torch.tensors.interpreters.precision.FixedPrecisionTensor'>\n",
            "Type of x.child.child <class 'syft.frameworks.torch.tensors.interpreters.native.Tensor'>\n"
          ],
          "name": "stdout"
        }
      ]
    },
    {
      "cell_type": "code",
      "metadata": {
        "id": "qUoWTR0zaGGc",
        "colab_type": "code",
        "outputId": "52b21f94-5024-409f-a55d-9a2f3e3915c1",
        "colab": {
          "base_uri": "https://localhost:8080/",
          "height": 34
        }
      },
      "source": [
        "# to decode the previous tensor\n",
        "print(x.float_prec())"
      ],
      "execution_count": 0,
      "outputs": [
        {
          "output_type": "stream",
          "text": [
            "tensor([0.1000, 0.2000, 0.3000, 0.4000])\n"
          ],
          "name": "stdout"
        }
      ]
    },
    {
      "cell_type": "code",
      "metadata": {
        "id": "VxhTUS0fyg-Q",
        "colab_type": "code",
        "outputId": "5b4f2fdf-9147-4e7d-b361-a12e985540a3",
        "colab": {
          "base_uri": "https://localhost:8080/",
          "height": 34
        }
      },
      "source": [
        "y = x + x\n",
        "y"
      ],
      "execution_count": 0,
      "outputs": [
        {
          "output_type": "execute_result",
          "data": {
            "text/plain": [
              "(Wrapper)>FixedPrecisionTensor>tensor([200, 400, 600, 800])"
            ]
          },
          "metadata": {
            "tags": []
          },
          "execution_count": 47
        }
      ]
    },
    {
      "cell_type": "code",
      "metadata": {
        "id": "O1zowAiNyg-S",
        "colab_type": "code",
        "outputId": "a421feb8-2225-42a5-ce83-54387a021577",
        "colab": {
          "base_uri": "https://localhost:8080/",
          "height": 34
        }
      },
      "source": [
        "y = y.float_prec()\n",
        "y"
      ],
      "execution_count": 0,
      "outputs": [
        {
          "output_type": "execute_result",
          "data": {
            "text/plain": [
              "tensor([0.2000, 0.4000, 0.6000, 0.8000])"
            ]
          },
          "metadata": {
            "tags": []
          },
          "execution_count": 48
        }
      ]
    },
    {
      "cell_type": "markdown",
      "metadata": {
        "id": "dD3PxBYtyg-T",
        "colab_type": "text"
      },
      "source": [
        "### Shared Fixed Precision\n",
        "\n",
        "And of course, we can combine the two!"
      ]
    },
    {
      "cell_type": "code",
      "metadata": {
        "id": "iHvWTMsCyg-U",
        "colab_type": "code",
        "colab": {}
      },
      "source": [
        "x = th.tensor([0.1, 0.2, 0.3])"
      ],
      "execution_count": 0,
      "outputs": []
    },
    {
      "cell_type": "code",
      "metadata": {
        "id": "pJdZTTsMyg-V",
        "colab_type": "code",
        "outputId": "657469eb-ea38-455c-b3da-e2843c9abdaf",
        "colab": {
          "base_uri": "https://localhost:8080/",
          "height": 34
        }
      },
      "source": [
        "x = x.fix_prec().share(bob, alice)\n",
        "print(f'Type of x.child.child {type(x.child.child)}')"
      ],
      "execution_count": 0,
      "outputs": [
        {
          "output_type": "stream",
          "text": [
            "Type of x.child.child <class 'syft.frameworks.torch.tensors.interpreters.native.Tensor'>\n"
          ],
          "name": "stdout"
        }
      ]
    },
    {
      "cell_type": "code",
      "metadata": {
        "id": "GwuwrFRVbiQD",
        "colab_type": "code",
        "outputId": "60019440-1d7e-4984-891e-efc6f328901a",
        "colab": {
          "base_uri": "https://localhost:8080/",
          "height": 122
        }
      },
      "source": [
        "bob._objects"
      ],
      "execution_count": 0,
      "outputs": [
        {
          "output_type": "execute_result",
          "data": {
            "text/plain": [
              "{12264841642: tensor([[0.],\n",
              "         [0.]], requires_grad=True), 16604174385: tensor([[0., 0.],\n",
              "         [0., 1.]], requires_grad=True), 74026504627: tensor([[ 0.0321],\n",
              "         [-0.0103]], grad_fn=<AddmmBackward>), 84555652421: tensor([3467280445042765661,  509106085931112698, 1800020087709809210,\n",
              "         1492840272511439380, 3390413188523620295]), 91623044749: tensor([2500054353339609915, 4427401764358621835, 2642660911665621786])}"
            ]
          },
          "metadata": {
            "tags": []
          },
          "execution_count": 51
        }
      ]
    },
    {
      "cell_type": "code",
      "metadata": {
        "id": "CUwsGFb3yg-W",
        "colab_type": "code",
        "colab": {}
      },
      "source": [
        "y = x + x"
      ],
      "execution_count": 0,
      "outputs": []
    },
    {
      "cell_type": "code",
      "metadata": {
        "id": "gCzDtdYcyg-a",
        "colab_type": "code",
        "outputId": "e1fcc364-c7c2-42df-e9b0-9b3fc28fe1fe",
        "colab": {
          "base_uri": "https://localhost:8080/",
          "height": 34
        }
      },
      "source": [
        "y.get().float_prec()"
      ],
      "execution_count": 0,
      "outputs": [
        {
          "output_type": "execute_result",
          "data": {
            "text/plain": [
              "tensor([0.2000, 0.4000, 0.6000])"
            ]
          },
          "metadata": {
            "tags": []
          },
          "execution_count": 53
        }
      ]
    },
    {
      "cell_type": "markdown",
      "metadata": {
        "id": "PLTpJ64Syg-e",
        "colab_type": "text"
      },
      "source": [
        "# Final Project: Federated Learning with Encrypted Gradient Aggregation\n",
        "\n",
        "Reuse your project from the Secuered Agggregator above to train the same model using the FL appraoch, but this time use the Additive Sharing Encryption so that the participating members have access to their own models only. There is no secure aggregator in this senario. \n",
        "Include four members in this project (Alice, Bob, Ted, and Carol). \n",
        "\n",
        "Hint: we will *share* the model with the shareholders, do addition on the encrypted models, and then aggregate the final model locally. "
      ]
    },
    {
      "cell_type": "markdown",
      "metadata": {
        "id": "7usaazz9NkOM",
        "colab_type": "text"
      },
      "source": [
        "Step 1: Import packages"
      ]
    },
    {
      "cell_type": "code",
      "metadata": {
        "id": "mGzYT7BdNqHV",
        "colab_type": "code",
        "outputId": "240639f8-3914-4883-be54-a49e22d57d7c",
        "colab": {
          "base_uri": "https://localhost:8080/",
          "height": 105
        }
      },
      "source": [
        "import syft as sy\n",
        "import torch as th\n",
        "from torch import nn, optim\n",
        "\n",
        "hook = sy.TorchHook(th)\n"
      ],
      "execution_count": 2,
      "outputs": [
        {
          "output_type": "stream",
          "text": [
            "WARNING: Logging before flag parsing goes to stderr.\n",
            "W0711 22:46:36.731505 140012058609536 secure_random.py:26] Falling back to insecure randomness since the required custom op could not be found for the installed version of TensorFlow. Fix this by compiling custom ops. Missing file was '/usr/local/lib/python3.6/dist-packages/tf_encrypted/operations/secure_random/secure_random_module_tf_1.14.0.so'\n",
            "W0711 22:46:36.749588 140012058609536 deprecation_wrapper.py:119] From /usr/local/lib/python3.6/dist-packages/tf_encrypted/session.py:26: The name tf.Session is deprecated. Please use tf.compat.v1.Session instead.\n",
            "\n"
          ],
          "name": "stderr"
        }
      ]
    },
    {
      "cell_type": "markdown",
      "metadata": {
        "id": "zsFM_9WwNwyl",
        "colab_type": "text"
      },
      "source": [
        "Step 2: create a couple workers"
      ]
    },
    {
      "cell_type": "code",
      "metadata": {
        "id": "3IOtuLW0N2sR",
        "colab_type": "code",
        "colab": {}
      },
      "source": [
        "bob = sy.VirtualWorker(hook, id=\"bob\")\n",
        "alice = sy.VirtualWorker(hook, id=\"alice\")\n",
        "ted = sy.VirtualWorker(hook, id=\"ted\")\n",
        "carol = sy.VirtualWorker(hook, id=\"carol\")\n",
        "crypto_provider = sy.VirtualWorker(id=\"crypto_provider\", hook=hook)"
      ],
      "execution_count": 0,
      "outputs": []
    },
    {
      "cell_type": "code",
      "metadata": {
        "id": "UCE6r_bqslW-",
        "colab_type": "code",
        "outputId": "d12d68ec-d985-468e-890f-ed8cef24d400",
        "colab": {
          "base_uri": "https://localhost:8080/",
          "height": 34
        }
      },
      "source": [
        "bob.clear_objects()\n",
        "ted.clear_objects()\n",
        "alice.clear_objects()\n",
        "carol.clear_objects()"
      ],
      "execution_count": 102,
      "outputs": [
        {
          "output_type": "execute_result",
          "data": {
            "text/plain": [
              "<VirtualWorker id:carol #objects:0>"
            ]
          },
          "metadata": {
            "tags": []
          },
          "execution_count": 102
        }
      ]
    },
    {
      "cell_type": "code",
      "metadata": {
        "id": "eBYYN7ETX3-T",
        "colab_type": "code",
        "outputId": "0275d88a-53fc-47c3-e46c-f1aa33e65bca",
        "colab": {
          "base_uri": "https://localhost:8080/",
          "height": 85
        }
      },
      "source": [
        "# Clear workers if previously holding any values\n",
        "print(bob._objects)\n",
        "print(alice._objects)\n",
        "print(ted._objects)\n",
        "print(carol._objects)"
      ],
      "execution_count": 103,
      "outputs": [
        {
          "output_type": "stream",
          "text": [
            "{}\n",
            "{}\n",
            "{}\n",
            "{}\n"
          ],
          "name": "stdout"
        }
      ]
    },
    {
      "cell_type": "code",
      "metadata": {
        "id": "vVmduu5COSaV",
        "colab_type": "code",
        "colab": {}
      },
      "source": [
        "# A Toy Dataset\n",
        "data = th.tensor([[0,0],[0,1],[1,0],[1,1.],[0,0],[0,1],[1,0],[1,1.]], requires_grad=True)\n",
        "target = th.tensor([[0],[0],[1],[1.],[0],[0],[1],[1.]], requires_grad=True)\n"
      ],
      "execution_count": 0,
      "outputs": []
    },
    {
      "cell_type": "code",
      "metadata": {
        "id": "REIXDrGQV4Aw",
        "colab_type": "code",
        "outputId": "3b3e7a69-cd41-40a4-9eb8-eb27c2a3ba58",
        "colab": {
          "base_uri": "https://localhost:8080/",
          "height": 272
        }
      },
      "source": [
        "# get pointers to training data on each worker by\n",
        "# sending some training data to bob and alice\n",
        "data = data.fix_precision().share(bob, alice, ted, carol, crypto_provider=crypto_provider,  requires_grad=True)\n",
        "target = target.fix_precision().share(bob, alice, ted, carol, crypto_provider=crypto_provider,  requires_grad=True)\n",
        "print(bob._objects)"
      ],
      "execution_count": 105,
      "outputs": [
        {
          "output_type": "stream",
          "text": [
            "{56855261262: tensor([[ 991490757418982939, 1834162455795001558],\n",
            "        [1744685931027012132, 3471505681120701979],\n",
            "        [1542693883532751411, 2322949877600644855],\n",
            "        [4191112562877455842,  155287764986443308],\n",
            "        [3241185948679933657, 1550930122397711896],\n",
            "        [4388405645903313149, 4443059156938381288],\n",
            "        [2849871903967545055, 3300181080634281394],\n",
            "        [1799511705847196925, 2832642555634045447]]), 68866476837: tensor([[4103452486853479973],\n",
            "        [2022213130539845440],\n",
            "        [ 324821719466965901],\n",
            "        [1231165375808139605],\n",
            "        [1307074887020533652],\n",
            "        [3855450332356468153],\n",
            "        [2675926951104739278],\n",
            "        [2598579746862861371]])}\n"
          ],
          "name": "stdout"
        }
      ]
    },
    {
      "cell_type": "markdown",
      "metadata": {
        "id": "VPqoNTBuPYxh",
        "colab_type": "text"
      },
      "source": [
        "Step 3: Create the Model"
      ]
    },
    {
      "cell_type": "code",
      "metadata": {
        "id": "ICq6BGGmPZ0v",
        "colab_type": "code",
        "colab": {}
      },
      "source": [
        "# Iniitalize A Toy Model\n",
        "model = nn.Linear(2,1)\n"
      ],
      "execution_count": 0,
      "outputs": []
    },
    {
      "cell_type": "markdown",
      "metadata": {
        "id": "LcsrHZM7Pv-d",
        "colab_type": "text"
      },
      "source": [
        "Step 4: Send a Copy of The Model to workers\n"
      ]
    },
    {
      "cell_type": "code",
      "metadata": {
        "id": "2tZPm3U1Pzpk",
        "colab_type": "code",
        "colab": {}
      },
      "source": [
        "\n",
        "model = model.fix_precision().share(bob, alice, ted, carol, crypto_provider=crypto_provider,  requires_grad=True)\n",
        "opt = optim.SGD(params=model.parameters(), lr=0.1)"
      ],
      "execution_count": 0,
      "outputs": []
    },
    {
      "cell_type": "code",
      "metadata": {
        "id": "Fva1t9wy6fft",
        "colab_type": "code",
        "outputId": "4d1d5350-d2cc-4cc8-ba49-81be17090521",
        "colab": {
          "base_uri": "https://localhost:8080/",
          "height": 255
        }
      },
      "source": [
        "print(model.weight)\n",
        "print(opt)"
      ],
      "execution_count": 108,
      "outputs": [
        {
          "output_type": "stream",
          "text": [
            "Parameter>AutogradTensor>FixedPrecisionTensor>(Wrapper)>[AdditiveSharingTensor]\n",
            "\t-> (Wrapper)>[PointerTensor | me:75413016205 -> bob:82019026954]\n",
            "\t-> (Wrapper)>[PointerTensor | me:39464161349 -> alice:17516165243]\n",
            "\t-> (Wrapper)>[PointerTensor | me:15775433014 -> ted:74616748764]\n",
            "\t-> (Wrapper)>[PointerTensor | me:13396827956 -> carol:7179244196]\n",
            "\t*crypto provider: crypto_provider*\n",
            "SGD (\n",
            "Parameter Group 0\n",
            "    dampening: 0\n",
            "    lr: 0.1\n",
            "    momentum: 0\n",
            "    nesterov: False\n",
            "    weight_decay: 0\n",
            ")\n"
          ],
          "name": "stdout"
        }
      ]
    },
    {
      "cell_type": "markdown",
      "metadata": {
        "id": "ZcEd7sPyQOPg",
        "colab_type": "text"
      },
      "source": [
        "Step 5: Train the Models (in parallel)\n"
      ]
    },
    {
      "cell_type": "code",
      "metadata": {
        "id": "joUkBcLIQQEP",
        "colab_type": "code",
        "outputId": "3142be00-9955-434b-c589-4d64de1a63c3",
        "colab": {
          "base_uri": "https://localhost:8080/",
          "height": 442
        }
      },
      "source": [
        "for i in range(100):\n",
        "\n",
        "    # Train Model'S\n",
        "    opt.zero_grad()\n",
        "    pred = model(data)\n",
        "    loss = ((pred - target)**2).sum()\n",
        "    loss.backward()\n",
        "\n",
        "    opt.step()\n",
        "    loss = loss.get().float_precision()\n",
        "    print(F'Iter : {i}, loss {loss.item()}')\n",
        "    if(loss.item() < 10 and loss.item() > 0):\n",
        "      break\n"
      ],
      "execution_count": 110,
      "outputs": [
        {
          "output_type": "stream",
          "text": [
            "Iter : 0, loss 67160311332864.0\n",
            "Iter : 1, loss -24107091492864.0\n",
            "Iter : 2, loss 2338456862720.0\n",
            "Iter : 3, loss -47047755431936.0\n",
            "Iter : 4, loss -37750598270976.0\n",
            "Iter : 5, loss -4945203429376.0\n",
            "Iter : 6, loss 567569416192.0\n",
            "Iter : 7, loss -8662886121472.0\n",
            "Iter : 8, loss 19124992344064.0\n",
            "Iter : 9, loss -9430566436864.0\n",
            "Iter : 10, loss -36289025933312.0\n",
            "Iter : 11, loss -80701705682944.0\n",
            "Iter : 12, loss -30150540394496.0\n",
            "Iter : 13, loss 26909519904768.0\n",
            "Iter : 14, loss 109204725760.0\n",
            "Iter : 15, loss 40110305312768.0\n",
            "Iter : 16, loss 10196770357248.0\n",
            "Iter : 17, loss -39927312023552.0\n",
            "Iter : 18, loss 45946557693952.0\n",
            "Iter : 19, loss -12965257412608.0\n",
            "Iter : 20, loss 2161072930816.0\n",
            "Iter : 21, loss 1305439240192.0\n",
            "Iter : 22, loss -46125419593728.0\n",
            "Iter : 23, loss 6410907680768.0\n",
            "Iter : 24, loss 3.561000108718872\n"
          ],
          "name": "stdout"
        }
      ]
    },
    {
      "cell_type": "code",
      "metadata": {
        "id": "4b6rO834TlKw",
        "colab_type": "code",
        "outputId": "1b7d759f-a5d8-42b6-f291-8f2c9757f202",
        "colab": {
          "base_uri": "https://localhost:8080/",
          "height": 136
        }
      },
      "source": [
        "#models in the workers\n",
        "model.weight\n"
      ],
      "execution_count": 111,
      "outputs": [
        {
          "output_type": "execute_result",
          "data": {
            "text/plain": [
              "Parameter containing:\n",
              "Parameter>AutogradTensor>FixedPrecisionTensor>(Wrapper)>[AdditiveSharingTensor]\n",
              "\t-> (Wrapper)>[PointerTensor | me:4731031788 -> bob:30809333377]\n",
              "\t-> (Wrapper)>[PointerTensor | me:91698702940 -> alice:64775034742]\n",
              "\t-> (Wrapper)>[PointerTensor | me:91412505541 -> ted:62325704809]\n",
              "\t-> (Wrapper)>[PointerTensor | me:19495220885 -> carol:32250627981]\n",
              "\t*crypto provider: crypto_provider*"
            ]
          },
          "metadata": {
            "tags": []
          },
          "execution_count": 111
        }
      ]
    },
    {
      "cell_type": "code",
      "metadata": {
        "id": "yuAzcOGjRhbn",
        "colab_type": "code",
        "outputId": "67cd7944-643e-40f7-91e1-a08aef423cde",
        "colab": {
          "base_uri": "https://localhost:8080/",
          "height": 51
        }
      },
      "source": [
        "#aggregated model \n",
        "model = model.get()\n",
        "print(model.float_precision().weight)"
      ],
      "execution_count": 112,
      "outputs": [
        {
          "output_type": "stream",
          "text": [
            "Parameter containing:\n",
            "tensor([[0.6970, 0.4680]], requires_grad=True)\n"
          ],
          "name": "stdout"
        }
      ]
    }
  ]
}