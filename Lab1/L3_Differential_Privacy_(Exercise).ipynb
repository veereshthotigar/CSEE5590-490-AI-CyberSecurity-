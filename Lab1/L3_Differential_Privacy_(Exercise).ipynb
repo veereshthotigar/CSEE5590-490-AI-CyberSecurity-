{
  "nbformat": 4,
  "nbformat_minor": 0,
  "metadata": {
    "colab": {
      "name": "L3-Differential Privacy (Exercise).ipynb",
      "version": "0.3.2",
      "provenance": [],
      "collapsed_sections": [
        "K9h85ktU5BK1",
        "MV12MsPI5BK1",
        "x8r7HiI25BK2",
        "JFrUdcRH5BLB",
        "Q8CwLoPU5BLM"
      ],
      "include_colab_link": true
    },
    "language_info": {
      "codemirror_mode": {
        "name": "ipython",
        "version": 3
      },
      "file_extension": ".py",
      "mimetype": "text/x-python",
      "name": "python",
      "nbconvert_exporter": "python",
      "pygments_lexer": "ipython3",
      "version": "3.6.1"
    },
    "kernelspec": {
      "name": "python3",
      "display_name": "Python 3"
    },
    "accelerator": "GPU"
  },
  "cells": [
    {
      "cell_type": "markdown",
      "metadata": {
        "id": "view-in-github",
        "colab_type": "text"
      },
      "source": [
        "<a href=\"https://colab.research.google.com/github/veereshthotigar/CSEE5590-490-AI-CyberSecurity-/blob/master/Lab1/L3_Differential_Privacy_(Exercise).ipynb\" target=\"_parent\"><img src=\"https://colab.research.google.com/assets/colab-badge.svg\" alt=\"Open In Colab\"/></a>"
      ]
    },
    {
      "cell_type": "markdown",
      "metadata": {
        "id": "wbKYWRrD5BJK",
        "colab_type": "text"
      },
      "source": [
        "In the context of Deep Learning, Differential Privacy ensures that the DL algorithms learns only what is is supposed to learn from the data while ignoring what it is not supposed to learn from the data. This is called Differential Privacy (DP). But what is DP?\n",
        "\n",
        "\n",
        "\n",
        "\n",
        "\n",
        "**Differential Privacy (DP):** \n",
        "The main goal is to ensure that statistical analysis techniques does not compromise the privacy of any particular individual in the dataset. \n",
        "\n",
        "*  Classical privacy defination: privacy is preserved if after the analysis is done, the analyzer does not know anything about the people in the dataset. (No information leak from the data.)\n",
        "\n",
        "- The Netflix Prize (anonymized simply! Attacked using the Linkage Attack)\n",
        "- Anonymization is not enough to protect our privacy\n",
        "\n",
        "A modern definition by Cynthia Dwork:\n",
        "DP describes a promise made by the data holder to a data subject that:  \"you will not be affected by allowing your data to be used in any study or analysis , no matter what other studies, datasets, or information sources are available\".\n",
        "\n",
        "\n",
        "**DP** is a mathematical definition of privacy. In the simplest setting, consider an algorithm that analyzes a dataset and computes statistics about it (such as the data's mean, variance, median, mode, etc.). Such an algorithm is said to be differentially private if by looking at the output, one cannot tell whether any individual's data was included in the original dataset or not. \n"
      ]
    },
    {
      "cell_type": "markdown",
      "metadata": {
        "id": "tlqpsupNwzdd",
        "colab_type": "text"
      },
      "source": [
        "\n",
        "\n",
        "---\n",
        "\n",
        "\n",
        "In this section we're going to play around with Differential Privacy in the context of a database query. The database is going to be a VERY simple database with only one boolean vector. Each row corresponds to a person. Each value corresponds to whether or not that person has a certain private attribute (such as whether they have a certain disease, or whether they are above/below a certain age). \n",
        "\n",
        "We are then going to learn how to know whether a database query over such a small database is differentially private or not - and more importantly - what techniques are at our disposal to ensure various levels of privacy\n",
        "\n",
        "\n",
        "### First We Create a Simple Database\n",
        "\n",
        "Step one is to create our database - we're going to do this by initializing a random list of 1s and 0s (which are the entries in our database). Note - the number of entries directly corresponds to the number of people in our database."
      ]
    },
    {
      "cell_type": "markdown",
      "metadata": {
        "id": "ZU0JgNTD5BJK",
        "colab_type": "text"
      },
      "source": [
        "## Toy Differential Privacy - Simple Database Queries"
      ]
    },
    {
      "cell_type": "markdown",
      "metadata": {
        "id": "08nxGBFT5BJQ",
        "colab_type": "text"
      },
      "source": [
        "## Project: Generate Parallel Databases\n",
        "\n",
        "Key to the definition of differenital privacy is the ability to ask the question \"When querying a database, if I removed someone from the database, would the output of the query be any different?\". Thus, in order to check this, we must construct what we term \"parallel databases\" which are simply databases with one entry removed. \n",
        "\n",
        "In this first project, I want you to create a list of every parallel database to the one currently contained in the \"db\" variable. Then, I want you to create a function which both:\n",
        "\n",
        "- creates the initial database (db)\n",
        "- creates all parallel databases"
      ]
    },
    {
      "cell_type": "code",
      "metadata": {
        "id": "WpWkwFBh5BJQ",
        "colab_type": "code",
        "colab": {}
      },
      "source": [
        "import torch"
      ],
      "execution_count": 0,
      "outputs": []
    },
    {
      "cell_type": "code",
      "metadata": {
        "id": "NNvnoh1B5BJS",
        "colab_type": "code",
        "outputId": "32addf14-5cd6-471b-ff9d-03122904036c",
        "colab": {
          "base_uri": "https://localhost:8080/",
          "height": 34
        }
      },
      "source": [
        "def create_db(entries):\n",
        "  return torch.rand(entries) > 0.5\n",
        "db = create_db(5000)\n",
        "db"
      ],
      "execution_count": 0,
      "outputs": [
        {
          "output_type": "execute_result",
          "data": {
            "text/plain": [
              "tensor([0, 1, 0,  ..., 0, 0, 1], dtype=torch.uint8)"
            ]
          },
          "metadata": {
            "tags": []
          },
          "execution_count": 3
        }
      ]
    },
    {
      "cell_type": "code",
      "metadata": {
        "id": "QmtQw-R15BJU",
        "colab_type": "code",
        "colab": {}
      },
      "source": [
        "# create a function to create paraller db\n",
        "def get_parallel_dbs(db):\n",
        "\n",
        "    parallel_dbs = list()\n",
        "\n",
        "    for i in range(len(db)):\n",
        "        pdb = torch.cat((db[0:i], db[i+1:]))\n",
        "        parallel_dbs.append(pdb)\n",
        "    #print(f'A databse of size {db.shape} was created')\n",
        "    return parallel_dbs\n",
        "\n",
        "pdb = get_parallel_dbs(db)\n"
      ],
      "execution_count": 0,
      "outputs": []
    },
    {
      "cell_type": "code",
      "metadata": {
        "id": "jzGB2H925BJL",
        "colab_type": "code",
        "outputId": "1d9fe04c-94ef-4bf2-fdfe-0b30b90d512b",
        "colab": {
          "base_uri": "https://localhost:8080/",
          "height": 34
        }
      },
      "source": [
        "import torch\n",
        "\n",
        "# the number of entries in our database\n",
        "num_entries = 5000\n",
        "\n",
        "db = torch.rand(num_entries) > 0.5 # returns a new Boolean tensor with each value > 0.5 set to 1 otherwise set to 0\n",
        "db"
      ],
      "execution_count": 0,
      "outputs": [
        {
          "output_type": "execute_result",
          "data": {
            "text/plain": [
              "tensor([1, 0, 0,  ..., 0, 0, 0], dtype=torch.uint8)"
            ]
          },
          "metadata": {
            "tags": []
          },
          "execution_count": 5
        }
      ]
    },
    {
      "cell_type": "code",
      "metadata": {
        "id": "zGnmz4Os5BJV",
        "colab_type": "code",
        "colab": {}
      },
      "source": [
        "# a helper function for the future\n",
        "def get_db_and_parallel(num_entries):\n",
        "  db = torch.rand(num_entries) > 0.5\n",
        "  pdb = get_parallel_dbs(db)\n",
        "  return db, pdb"
      ],
      "execution_count": 0,
      "outputs": []
    },
    {
      "cell_type": "code",
      "metadata": {
        "id": "QjboW-h95BJX",
        "colab_type": "code",
        "colab": {}
      },
      "source": [
        ""
      ],
      "execution_count": 0,
      "outputs": []
    },
    {
      "cell_type": "markdown",
      "metadata": {
        "id": "FDztwe045BJZ",
        "colab_type": "text"
      },
      "source": [
        "# Lesson: Towards Evaluating The Differential Privacy of a Function\n",
        "\n",
        "Intuitively, we want to be able to query our database and evaluate whether or not the result of the query is leaking \"private\" information. As mentioned previously, this is about evaluating whether the output of a query changes when we remove someone from the database. Specifically, we want to evaluate the *maximum* amount the query changes when someone is removed (maximum over all possible people who could be removed). So, in order to evaluate how much privacy is leaked, we're going to iterate over each person in the database and measure the difference in the output of the query relative to when we query the entire database. \n",
        "\n",
        "Just for the sake of argument, let's make our first \"database query\" a simple sum. Aka, we're going to count the number of 1s in the database."
      ]
    },
    {
      "cell_type": "code",
      "metadata": {
        "id": "_ChVS5xE5BJZ",
        "colab_type": "code",
        "colab": {}
      },
      "source": [
        "def query(db):\n",
        "  return torch.sum(db)"
      ],
      "execution_count": 0,
      "outputs": []
    },
    {
      "cell_type": "code",
      "metadata": {
        "id": "hvmsUntP5BJe",
        "colab_type": "code",
        "outputId": "f24b1083-bc8c-48bb-c495-8d1a308e278e",
        "colab": {
          "base_uri": "https://localhost:8080/",
          "height": 34
        }
      },
      "source": [
        "db,parallel_db = get_db_and_parallel(5000)\n",
        "db_result = query(db)\n",
        "print(db_result)"
      ],
      "execution_count": 0,
      "outputs": [
        {
          "output_type": "stream",
          "text": [
            "tensor(2520)\n"
          ],
          "name": "stdout"
        }
      ]
    },
    {
      "cell_type": "code",
      "metadata": {
        "id": "j3jrqjMI5BJh",
        "colab_type": "code",
        "outputId": "c9bd516d-9789-498c-f367-df94f008b4f8",
        "colab": {
          "base_uri": "https://localhost:8080/",
          "height": 34
        }
      },
      "source": [
        "sensitivity = 0  # maximum difference between query(db) and each query(pdb)\n",
        "  # return the value of sensitivity\n",
        "  # loop on each pdb in the pdbs and calculate its distance\n",
        "  # find the maximum distance <-- that's your sensitivity\n",
        "for ele in parallel_db:\n",
        "  parallel_db_result = query(ele)\n",
        "  distance = db_result - parallel_db_result\n",
        "  if(distance>sensitivity):\n",
        "    sensitivity = distance\n",
        "\n",
        "print(sensitivity)"
      ],
      "execution_count": 0,
      "outputs": [
        {
          "output_type": "stream",
          "text": [
            "tensor(1)\n"
          ],
          "name": "stdout"
        }
      ]
    },
    {
      "cell_type": "markdown",
      "metadata": {
        "id": "30nCWZaG5BJl",
        "colab_type": "text"
      },
      "source": [
        "# Exercise - Evaluating the Privacy of a Function\n",
        "\n",
        "In the last section, we measured the difference between each parallel db's query result and the query result for the entire database and then calculated the max value (which was 1). This value is called \"sensitivity\", and it corresponds to the function we chose for the query. Namely, the \"sum\" query will always have a sensitivity of exactly 1. However, we can also calculate sensitivity for other functions as well.\n",
        "\n",
        "First, create a function that will accept (1) a query function and (2) a num_items to generate the db and the pdb: \n",
        "\n",
        "**Hint:** def sensitivity(query, num_items)"
      ]
    },
    {
      "cell_type": "code",
      "metadata": {
        "id": "1horUInX5BJm",
        "colab_type": "code",
        "colab": {}
      },
      "source": [
        "# define a function to calculate the sensitivity of a query\n",
        "def sensitivity(query, num_items):\n",
        "  \n",
        "  # generate the db and the pdbs\n",
        "  db = torch.rand(num_items) > 0.5\n",
        "  pdbs = get_parallel_dbs(db)\n",
        "  \n",
        "  # query the db\n",
        "  db_result = query(db)\n",
        "  \n",
        "  # return the value of sensitivity\n",
        "  # loop on each pdb in the pdbs and calculate its distance\n",
        "  # find the maximum distance <-- that's your sensitivity\n",
        "  sensitivity = 0\n",
        "  for pdb in pdbs:\n",
        "    parallel_db_result = query(pdb)\n",
        "    distance = db_result - parallel_db_result\n",
        "    if(distance>sensitivity):\n",
        "      sensitivity = distance\n",
        "  return sensitivity  \n",
        "  "
      ],
      "execution_count": 0,
      "outputs": []
    },
    {
      "cell_type": "code",
      "metadata": {
        "id": "oDIqo7Jj5BJn",
        "colab_type": "code",
        "colab": {}
      },
      "source": [
        "# recreate the sum query we created earlier\n",
        "def total(db):\n",
        "  return torch.sum(db)"
      ],
      "execution_count": 0,
      "outputs": []
    },
    {
      "cell_type": "code",
      "metadata": {
        "id": "RrIqncaK5BJo",
        "colab_type": "code",
        "outputId": "e5fdbfb0-3a78-4aa5-b7d9-68d5c2956255",
        "colab": {
          "base_uri": "https://localhost:8080/",
          "height": 34
        }
      },
      "source": [
        "# test your sensitivity function with the sum query\n",
        "sens_result = sensitivity(total,5000)\n",
        "print(sens_result)"
      ],
      "execution_count": 0,
      "outputs": [
        {
          "output_type": "stream",
          "text": [
            "tensor(1)\n"
          ],
          "name": "stdout"
        }
      ]
    },
    {
      "cell_type": "code",
      "metadata": {
        "id": "Q1x-ei2s5BJq",
        "colab_type": "code",
        "colab": {}
      },
      "source": [
        "# create a new query function, which finds the mean rather than the sum\n",
        "def get_mean(db):\n",
        "  total = torch.sum(db.float())\n",
        "  return torch.div(total,len(db))\n"
      ],
      "execution_count": 0,
      "outputs": []
    },
    {
      "cell_type": "code",
      "metadata": {
        "id": "Lu9z_WHA5BJr",
        "colab_type": "code",
        "outputId": "4c08db58-b7ca-4109-b254-debc0f9e89b5",
        "colab": {
          "base_uri": "https://localhost:8080/",
          "height": 34
        }
      },
      "source": [
        "# test your sensitivity function of the Mean query\n",
        "# how much the output value (query) is using informaiton frmo each of the participating observations\n",
        "sensitivity(get_mean, 1000)"
      ],
      "execution_count": 0,
      "outputs": [
        {
          "output_type": "execute_result",
          "data": {
            "text/plain": [
              "tensor(0.0005)"
            ]
          },
          "metadata": {
            "tags": []
          },
          "execution_count": 15
        }
      ]
    },
    {
      "cell_type": "markdown",
      "metadata": {
        "id": "BFQfOp2Z5BJy",
        "colab_type": "text"
      },
      "source": [
        "Wow! That sensitivity is WAY lower. Note the intuition here. \"Sensitivity\" is measuring how sensitive the output of the query is to a person being removed from the database. For a simple sum, this is always 1, but for the mean, removing a person is going to change the result of the query by rougly 1 divided by the size of the database (which is much smaller). Thus, \"mean\" is a VASTLY less \"sensitive\" function (query) than SUM."
      ]
    },
    {
      "cell_type": "markdown",
      "metadata": {
        "id": "VE1uK8YW5BJz",
        "colab_type": "text"
      },
      "source": [
        "# Exercise: Calculate L1 Sensitivity For Threshold\n",
        "\n",
        "In this exercise, you need to calculate the sensitivty for the \"threshold\" function. \n",
        "\n",
        "- First compute the sum over the database (i.e. sum(db)) and return whether that sum is greater than a certain threshold.\n",
        "\n",
        "- Then, create databases of size 10 and threshold of 5 and calculate the sensitivity of the function. \n",
        "\n",
        "- Finally, re-initialize the database 10 times and calculate the sensitivity each time."
      ]
    },
    {
      "cell_type": "code",
      "metadata": {
        "id": "WWjqHplZ5BJz",
        "colab_type": "code",
        "colab": {}
      },
      "source": [
        "# define a fucntion to query the sum and return wethere the sum is greater or less than a threshold\n",
        "def get_threshold(db,threshold):\n",
        "  total = torch.sum(db.float())\n",
        "  return (total>threshold).float()\n",
        "\n",
        "def sensitivity(query, num_items,threshold):\n",
        "  \n",
        "  # generate the db and the pdbs\n",
        "  db = torch.rand(num_items) > 0.5\n",
        "  pdbs = get_parallel_dbs(db)\n",
        "  \n",
        "  # query the db\n",
        "  db_result = query(db,threshold)\n",
        "  \n",
        "  # return the value of sensitivity\n",
        "  # loop on each pdb in the pdbs and calculate its distance\n",
        "  # find the maximum distance <-- that's your sensitivity\n",
        "  sensitivity = 0\n",
        "  for pdb in pdbs:\n",
        "    parallel_db_result = query(pdb,threshold)\n",
        "    distance = db_result - parallel_db_result\n",
        "    if(distance>sensitivity):\n",
        "      sensitivity = distance\n",
        "  return sensitivity "
      ],
      "execution_count": 0,
      "outputs": []
    },
    {
      "cell_type": "code",
      "metadata": {
        "id": "twbkT1cO5BJ1",
        "colab_type": "code",
        "outputId": "50c3221b-3f42-4d38-972d-e37685aff249",
        "colab": {
          "base_uri": "https://localhost:8080/",
          "height": 34
        }
      },
      "source": [
        "# the sensitivity with db of size 10 and threshold of 5\n",
        "sensitivity(get_threshold,10,5)\n",
        "\n"
      ],
      "execution_count": 0,
      "outputs": [
        {
          "output_type": "execute_result",
          "data": {
            "text/plain": [
              "0"
            ]
          },
          "metadata": {
            "tags": []
          },
          "execution_count": 17
        }
      ]
    },
    {
      "cell_type": "code",
      "metadata": {
        "id": "rQdXh4pX5BJ3",
        "colab_type": "code",
        "outputId": "d13a3032-ed72-47aa-ee59-286416a80656",
        "colab": {
          "base_uri": "https://localhost:8080/",
          "height": 194
        }
      },
      "source": [
        "# repeat for 10 times\n",
        "for i in range(10):\n",
        "  print(sensitivity(get_threshold,10,5))"
      ],
      "execution_count": 0,
      "outputs": [
        {
          "output_type": "stream",
          "text": [
            "0\n",
            "tensor(1.)\n",
            "0\n",
            "0\n",
            "0\n",
            "0\n",
            "0\n",
            "tensor(1.)\n",
            "tensor(1.)\n",
            "0\n"
          ],
          "name": "stdout"
        }
      ]
    },
    {
      "cell_type": "code",
      "metadata": {
        "id": "939aUgmb5BJ5",
        "colab_type": "code",
        "colab": {}
      },
      "source": [
        ""
      ],
      "execution_count": 0,
      "outputs": []
    },
    {
      "cell_type": "markdown",
      "metadata": {
        "id": "uSpX8dIj5BKB",
        "colab_type": "text"
      },
      "source": [
        "# A Basic Differencing Attack\n",
        "\n",
        "Sadly none of the functions we've looked at so far are differentially private (despite them having varying levels of sensitivity). The most basic type of attack can be done as follows.\n",
        "\n",
        "Let's say we wanted to figure out a specific person's value in the database. All we would have to do is query for the sum of the entire database and then the sum of the entire database without that person!\n",
        "\n",
        "# Exercise:  Perform a Differencing Attack on Row 10\n",
        "\n",
        "In this project, construct a database and then demonstrate how you can use  different queries (sum, threshold, and mean) to explose the value of the person represented by row 10 in the database (note, you'll need to use a database with at least 10 rows)"
      ]
    },
    {
      "cell_type": "code",
      "metadata": {
        "id": "0vIgUCGsh_zL",
        "colab_type": "code",
        "colab": {}
      },
      "source": [
        ""
      ],
      "execution_count": 0,
      "outputs": []
    },
    {
      "cell_type": "code",
      "metadata": {
        "id": "V3fQ-5Yr5BKC",
        "colab_type": "code",
        "outputId": "df63a242-de20-43ab-f547-62838bc35e16",
        "colab": {
          "base_uri": "https://localhost:8080/",
          "height": 52
        }
      },
      "source": [
        "# Perform a differencing attack using the sum query on row 10\n",
        "db, pdb = get_db_and_parallel(100)\n",
        "\n",
        "# Perform a differencing attack using the sum query on row 10\n",
        "def attack_by_sum(db, pdb, i):\n",
        "  return total(db) - total(pdb[i])\n",
        "\n",
        "print(attack_by_sum(db, pdb, 10))\n",
        "print(db[10].item())"
      ],
      "execution_count": 0,
      "outputs": [
        {
          "output_type": "stream",
          "text": [
            "tensor(0)\n",
            "0\n"
          ],
          "name": "stdout"
        }
      ]
    },
    {
      "cell_type": "code",
      "metadata": {
        "id": "3BpMubXO5BKD",
        "colab_type": "code",
        "outputId": "1f7401d3-d4be-442a-b465-5280321f9c93",
        "colab": {
          "base_uri": "https://localhost:8080/",
          "height": 52
        }
      },
      "source": [
        "# Perform a differencing attack using the mean query on row 10\n",
        "def attack_by_mean(db, pdb, i):\n",
        "  dbTotal = (get_mean(db))\n",
        "  pdbTotal = (get_mean(pdb[i]))\n",
        "  \n",
        "  difference = dbTotal - pdbTotal\n",
        "  \n",
        "  return (dbTotal >= pdbTotal).item()\n",
        "  \n",
        "\n",
        "print(attack_by_mean(db, pdb, 10))\n",
        "print(db[10].item())"
      ],
      "execution_count": 0,
      "outputs": [
        {
          "output_type": "stream",
          "text": [
            "0\n",
            "0\n"
          ],
          "name": "stdout"
        }
      ]
    },
    {
      "cell_type": "code",
      "metadata": {
        "id": "302S0ZEr5BKF",
        "colab_type": "code",
        "outputId": "d5dbe021-21b5-4f6c-8635-2eea43a2f0c4",
        "colab": {
          "base_uri": "https://localhost:8080/",
          "height": 52
        }
      },
      "source": [
        "# Perform a differencing attack using the threshold query on row 10\n",
        "def attack_by_Threshold(db, pdb, i):\n",
        "  dbTotal = (total(db))\n",
        "  pdbTotal = (total(pdb[i]))\n",
        "  return (dbTotal > 49) - (pdbTotal > 49)\n",
        "  \n",
        "print(attack_by_Threshold(db, pdb, 10))\n",
        "print(db[10].item())"
      ],
      "execution_count": 0,
      "outputs": [
        {
          "output_type": "stream",
          "text": [
            "tensor(0, dtype=torch.uint8)\n",
            "0\n"
          ],
          "name": "stdout"
        }
      ]
    },
    {
      "cell_type": "markdown",
      "metadata": {
        "id": "768QSDSa5BKP",
        "colab_type": "text"
      },
      "source": [
        "# Project: Local Differential Privacy\n",
        "\n",
        "As you can see, the basic sum query is not differentially private at all! In truth, differential privacy always requires a form of randomness added to the query. Let me show you what I mean.\n",
        "\n",
        "### Randomized Response (Local Differential Privacy)\n",
        "\n",
        "Let's say I have a group of people I wish to survey about a very taboo behavior which I think they will lie about (say, I want to know if they have ever committed a certain kind of crime). I'm not a policeman, I'm just trying to collect statistics to understand the higher level trend in society. So, how do we do this? One technique is to add randomness to each person's response by giving each person the following instructions (assuming I'm asking a simple yes/no question):\n",
        "\n",
        "- Flip a coin 2 times.\n",
        "- If the first coin flip is heads, answer honestly\n",
        "- If the first coin flip is tails, answer according to the second coin flip (heads for yes, tails for no)!\n",
        "\n",
        "Thus, each person is now protected with \"plausible deniability\". If they answer \"Yes\" to the question \"have you committed X crime?\", then it might becasue they actually did, or it might be becasue they are answering according to a random coin flip. Each person has a high degree of protection. Furthermore, we can recover the underlying statistics with some accuracy, as the \"true statistics\" are simply averaged with a 50% probability. Thus, if we collect a bunch of samples and it turns out that 60% of people answer yes, then we know that the TRUE distribution is actually centered around 70%, because 70% averaged wtih 50% (a coin flip) is 60% which is the result we obtained. \n",
        "\n",
        "However, it should be noted that, especially when we only have a few samples, the this comes at the cost of accuracy. This tradeoff exists across all of Differential Privacy. The greater the privacy protection (plausible deniability) the less accurate the results. \n",
        "\n",
        "Let's implement this local DP for our database before!"
      ]
    },
    {
      "cell_type": "code",
      "metadata": {
        "id": "jfZkjLYc5BKQ",
        "colab_type": "code",
        "colab": {}
      },
      "source": [
        "# try this project here!"
      ],
      "execution_count": 0,
      "outputs": []
    },
    {
      "cell_type": "code",
      "metadata": {
        "id": "8Nlas8J25BKS",
        "colab_type": "code",
        "colab": {}
      },
      "source": [
        "def create_db_and_aug_db(iter):\n",
        "  db_original = create_db(iter)\n",
        "  first_flip = create_db(iter)\n",
        "  second_flip = create_db(iter)\n",
        "  augmented_db = create_db(iter)\n",
        "  for i in range(iter):\n",
        "    if(first_flip[i].item() == 1):\n",
        "      augmented_db[i] = db_original[i]\n",
        "    elif(first_flip[i].item() == 0):\n",
        "      augmented_db[i] = second_flip[i]\n",
        "      \n",
        "  return db_original,augmented_db\n",
        "  \n",
        "def get_mean(db):\n",
        "  total = torch.sum(db.float())\n",
        "  return torch.div(total,len(db)).float()\n",
        "\n",
        "def total(db):\n",
        "  return torch.sum(db)"
      ],
      "execution_count": 0,
      "outputs": []
    },
    {
      "cell_type": "code",
      "metadata": {
        "id": "g57d11q75BKU",
        "colab_type": "code",
        "outputId": "ccb56320-e811-4304-85c8-84de76e939b3",
        "colab": {
          "base_uri": "https://localhost:8080/",
          "height": 52
        }
      },
      "source": [
        "db,aug_db = create_db_and_aug_db(10)\n",
        "print(db)\n",
        "print(aug_db)"
      ],
      "execution_count": 0,
      "outputs": [
        {
          "output_type": "stream",
          "text": [
            "tensor([1, 0, 1, 0, 0, 0, 1, 0, 1, 0], dtype=torch.uint8)\n",
            "tensor([0, 0, 0, 1, 0, 0, 1, 0, 1, 0], dtype=torch.uint8)\n"
          ],
          "name": "stdout"
        }
      ]
    },
    {
      "cell_type": "code",
      "metadata": {
        "id": "SocgvjGL5BKW",
        "colab_type": "code",
        "outputId": "218be155-d2ec-489e-9e1e-0c32f1945543",
        "colab": {
          "base_uri": "https://localhost:8080/",
          "height": 52
        }
      },
      "source": [
        "db,aug_db = create_db_and_aug_db(10)\n",
        "\n",
        "org_mean = get_mean(db)\n",
        "noise_mean  = get_mean(aug_db)\n",
        "\n",
        "print(\"Original Value :: \",org_mean)\n",
        "#finding original mean value\n",
        "print(\"Truth Value :: \",(noise_mean-0.25)*2)"
      ],
      "execution_count": 0,
      "outputs": [
        {
          "output_type": "stream",
          "text": [
            "Original Value ::  tensor(0.5000)\n",
            "Truth Value ::  tensor(0.1000)\n"
          ],
          "name": "stdout"
        }
      ]
    },
    {
      "cell_type": "code",
      "metadata": {
        "id": "Cn6w6-go5BKX",
        "colab_type": "code",
        "outputId": "889e6af2-d382-49ae-eb8f-6d7071af83b9",
        "colab": {
          "base_uri": "https://localhost:8080/",
          "height": 52
        }
      },
      "source": [
        "db,aug_db = create_db_and_aug_db(100)\n",
        "\n",
        "org_mean = get_mean(db)\n",
        "noise_mean  = get_mean(aug_db)\n",
        "\n",
        "print(\"Original Value :: \",org_mean)\n",
        "#finding original mean value\n",
        "print(\"Truth Value :: \",(noise_mean-0.25)*2)"
      ],
      "execution_count": 0,
      "outputs": [
        {
          "output_type": "stream",
          "text": [
            "Original Value ::  tensor(0.5200)\n",
            "Truth Value ::  tensor(0.7200)\n"
          ],
          "name": "stdout"
        }
      ]
    },
    {
      "cell_type": "code",
      "metadata": {
        "id": "1DQMqP9b5BKZ",
        "colab_type": "code",
        "outputId": "f6c70fd3-4dde-4f72-c3c2-48298ecacb41",
        "colab": {
          "base_uri": "https://localhost:8080/",
          "height": 52
        }
      },
      "source": [
        "db,aug_db = create_db_and_aug_db(1000)\n",
        "\n",
        "org_mean = get_mean(db)\n",
        "noise_mean  = get_mean(aug_db)\n",
        "\n",
        "print(\"Original Value :: \",org_mean)\n",
        "#finding original mean value\n",
        "print(\"Truth Value :: \",(noise_mean-0.25)*2)"
      ],
      "execution_count": 0,
      "outputs": [
        {
          "output_type": "stream",
          "text": [
            "Original Value ::  tensor(0.4880)\n",
            "Truth Value ::  tensor(0.5040)\n"
          ],
          "name": "stdout"
        }
      ]
    },
    {
      "cell_type": "code",
      "metadata": {
        "id": "v98lFAei5BKb",
        "colab_type": "code",
        "outputId": "165fd2f1-2af7-4cce-d20e-acad4b3133df",
        "colab": {
          "base_uri": "https://localhost:8080/",
          "height": 52
        }
      },
      "source": [
        "db,aug_db = create_db_and_aug_db(100000)\n",
        "\n",
        "org_mean = get_mean(db)\n",
        "noise_mean  = get_mean(aug_db)\n",
        "\n",
        "print(\"Original Value :: \",org_mean)\n",
        "#finding original mean value\n",
        "print(\"Truth Value :: \",(noise_mean-0.25)*2)"
      ],
      "execution_count": 0,
      "outputs": [
        {
          "output_type": "stream",
          "text": [
            "Original Value ::  tensor(0.5036)\n",
            "Truth Value ::  tensor(0.5034)\n"
          ],
          "name": "stdout"
        }
      ]
    },
    {
      "cell_type": "code",
      "metadata": {
        "id": "_X6zgqZr5BKc",
        "colab_type": "code",
        "outputId": "7bd73451-2eb4-4cbb-e837-4b0c8d03178d",
        "colab": {
          "base_uri": "https://localhost:8080/",
          "height": 52
        }
      },
      "source": [
        "db,aug_db = create_db_and_aug_db(1000000)\n",
        "\n",
        "org_mean = get_mean(db)\n",
        "noise_mean  = get_mean(aug_db)\n",
        "\n",
        "print(\"Original Value :: \",org_mean)\n",
        "#finding original mean value\n",
        "print(\"Truth Value :: \",(noise_mean-0.25)*2)"
      ],
      "execution_count": 0,
      "outputs": [
        {
          "output_type": "stream",
          "text": [
            "Original Value ::  tensor(0.4985)\n",
            "Truth Value ::  tensor(0.4994)\n"
          ],
          "name": "stdout"
        }
      ]
    },
    {
      "cell_type": "markdown",
      "metadata": {
        "id": "C-SgDHTp5BKd",
        "colab_type": "text"
      },
      "source": [
        "# Project: Varying Amounts of Noise\n",
        "\n",
        "In this project, I want you to augment the randomized response query (the one we just wrote) to allow for varying amounts of randomness to be added. Specifically, I want you to bias the coin flip to be higher or lower and then run the same experiment. \n",
        "\n",
        "Note - this one is a bit tricker than you might expect. You need to both adjust the likelihood of the first coin flip AND the de-skewing at the end (where we create the \"augmented_result\" variable)."
      ]
    },
    {
      "cell_type": "code",
      "metadata": {
        "id": "py7xHeKE5BKe",
        "colab_type": "code",
        "colab": {}
      },
      "source": [
        "# import torch library\n",
        "import torch"
      ],
      "execution_count": 0,
      "outputs": []
    },
    {
      "cell_type": "code",
      "metadata": {
        "id": "bkXFuIXY5BKf",
        "colab_type": "code",
        "colab": {}
      },
      "source": [
        "# funtion method that takes the arguments size of the data, noise level and returns original data, augmented data\n",
        "def create_db_and_aug_db(num_items,noise):\n",
        "  db_original =torch.rand(num_items) > 0.5 #randomly creating database\n",
        "  first_flip = torch.rand(num_items) > noise #randomly creating database with noise level \n",
        "  second_flip = torch.rand(num_items) > noise #randomly creating database with noise level \n",
        "  augmented_db = torch.rand(num_items) > 0.5 #randomly intializing augmented database\n",
        "  \n",
        "  print('Noise level : ',noise)\n",
        "  print('Percentage of 1\\'s in first flip : ',(torch.sum(first_flip).item()/len(first_flip))*100,'%')\n",
        "  print('Percentage of 1\\'s in second flip : ',(torch.sum(second_flip).item()/len(second_flip))*100,'%')\n",
        "  \n",
        "  #check for first flip values if 1 assigin original val else second flip val to the augmented database\n",
        "  for i in range(num_items):\n",
        "    if(first_flip[i].item() == 1):\n",
        "      augmented_db[i] = db_original[i]\n",
        "    elif(first_flip[i].item() == 0):\n",
        "      augmented_db[i] = second_flip[i]\n",
        "  print('Percentage of 1\\'s in augmented : ',(torch.sum(augmented_db).item()/len(augmented_db))*100,'%')    \n",
        "  #return original data, augmented data    \n",
        "  return db_original,augmented_db\n",
        " "
      ],
      "execution_count": 0,
      "outputs": []
    },
    {
      "cell_type": "code",
      "metadata": {
        "id": "1C3RwtCCqJXr",
        "colab_type": "code",
        "colab": {}
      },
      "source": [
        "# funtion method to calculate mean value\n",
        "def get_mean(db):\n",
        "  total = torch.sum(db.float())\n",
        "  return torch.div(total,len(db)).float().item()"
      ],
      "execution_count": 0,
      "outputs": []
    },
    {
      "cell_type": "code",
      "metadata": {
        "id": "HYQxHdQp_dRW",
        "colab_type": "code",
        "outputId": "5a19b3cf-d357-4043-b6c8-af3659733804",
        "colab": {
          "base_uri": "https://localhost:8080/",
          "height": 85
        }
      },
      "source": [
        "# testing for noise level 0.2\n",
        "noise_level = 0.2\n",
        "db,aug_db = create_db_and_aug_db(1000,noise_level)"
      ],
      "execution_count": 27,
      "outputs": [
        {
          "output_type": "stream",
          "text": [
            "Noise level :  0.2\n",
            "Percentage of 1's in first flip :  82.5 %\n",
            "Percentage of 1's in second flip :  79.4 %\n",
            "Percentage of 1's in augmented :  56.699999999999996 %\n"
          ],
          "name": "stdout"
        }
      ]
    },
    {
      "cell_type": "code",
      "metadata": {
        "id": "xcY9BQO8syXK",
        "colab_type": "code",
        "colab": {
          "base_uri": "https://localhost:8080/",
          "height": 833
        },
        "outputId": "927cc517-0bd7-4372-cdbf-1bf6a5da5142"
      },
      "source": [
        "# for noise level 0.2\n",
        "noise_level = 0.2\n",
        "\n",
        "for i in [10,100,1000,10000,100000,1000000]:\n",
        "  print('\\nSize of db : ',i)\n",
        "  #creating original data, augmented data\n",
        "  db,aug_db = create_db_and_aug_db(i,noise_level)\n",
        "  #calculating the mean for original data, augmented data\n",
        "  org_mean = get_mean(db)\n",
        "  noise_mean  = get_mean(aug_db)\n",
        "\n",
        "  print(\"Original mean value :: \",org_mean)\n",
        "  print(\"Mean value from local differntial privacy :: \",(noise_mean-noise_level+((1-noise_level)*noise_level))/noise_level)"
      ],
      "execution_count": 29,
      "outputs": [
        {
          "output_type": "stream",
          "text": [
            "\n",
            "Size of db :  10\n",
            "Noise level :  0.2\n",
            "Percentage of 1's in first flip :  80.0 %\n",
            "Percentage of 1's in second flip :  100.0 %\n",
            "Percentage of 1's in augmented :  70.0 %\n",
            "Original mean value ::  0.6000000238418579\n",
            "Mean value from local differntial privacy ::  3.299999940395355\n",
            "\n",
            "Size of db :  100\n",
            "Noise level :  0.2\n",
            "Percentage of 1's in first flip :  87.0 %\n",
            "Percentage of 1's in second flip :  88.0 %\n",
            "Percentage of 1's in augmented :  53.0 %\n",
            "Original mean value ::  0.47999998927116394\n",
            "Mean value from local differntial privacy ::  2.4499998569488524\n",
            "\n",
            "Size of db :  1000\n",
            "Noise level :  0.2\n",
            "Percentage of 1's in first flip :  80.30000000000001 %\n",
            "Percentage of 1's in second flip :  79.4 %\n",
            "Percentage of 1's in augmented :  55.00000000000001 %\n",
            "Original mean value ::  0.5130000114440918\n",
            "Mean value from local differntial privacy ::  2.5500000596046446\n",
            "\n",
            "Size of db :  10000\n",
            "Noise level :  0.2\n",
            "Percentage of 1's in first flip :  80.42 %\n",
            "Percentage of 1's in second flip :  80.57 %\n",
            "Percentage of 1's in augmented :  56.14 %\n",
            "Original mean value ::  0.5030999779701233\n",
            "Mean value from local differntial privacy ::  2.6069999814033507\n",
            "\n",
            "Size of db :  100000\n",
            "Noise level :  0.2\n",
            "Percentage of 1's in first flip :  80.015 %\n",
            "Percentage of 1's in second flip :  80.146 %\n",
            "Percentage of 1's in augmented :  56.119 %\n",
            "Original mean value ::  0.5003200173377991\n",
            "Mean value from local differntial privacy ::  2.605950045585632\n",
            "\n",
            "Size of db :  1000000\n",
            "Noise level :  0.2\n",
            "Percentage of 1's in first flip :  79.9265 %\n",
            "Percentage of 1's in second flip :  80.045 %\n",
            "Percentage of 1's in augmented :  56.02740000000001 %\n",
            "Original mean value ::  0.5002089738845825\n",
            "Mean value from local differntial privacy ::  2.601370024681091\n"
          ],
          "name": "stdout"
        }
      ]
    },
    {
      "cell_type": "code",
      "metadata": {
        "id": "nW2yJSJl5BKn",
        "colab_type": "code",
        "colab": {
          "base_uri": "https://localhost:8080/",
          "height": 833
        },
        "outputId": "cd2d7da6-6390-47c8-d765-93620bd56681"
      },
      "source": [
        "# for noise level 0.4\n",
        "noise_level = 0.4\n",
        "\n",
        "for i in [10,100,1000,10000,100000,1000000]:\n",
        "  print('\\nSize of db : ',i)\n",
        "  #creating original data, augmented data\n",
        "  db,aug_db = create_db_and_aug_db(i,noise_level)\n",
        "  #calculating the mean for original data, augmented data\n",
        "  org_mean = get_mean(db)\n",
        "  noise_mean  = get_mean(aug_db)\n",
        "\n",
        "  print(\"Original Value :: \",org_mean)\n",
        "  print(\"Mean value from local differntial privacy :: \",(noise_mean-noise_level+((1-noise_level)*noise_level))/noise_level)"
      ],
      "execution_count": 30,
      "outputs": [
        {
          "output_type": "stream",
          "text": [
            "\n",
            "Size of db :  10\n",
            "Noise level :  0.4\n",
            "Percentage of 1's in first flip :  60.0 %\n",
            "Percentage of 1's in second flip :  40.0 %\n",
            "Percentage of 1's in augmented :  30.0 %\n",
            "Original Value ::  0.30000001192092896\n",
            "Mean value from local differntial privacy ::  0.3500000298023223\n",
            "\n",
            "Size of db :  100\n",
            "Noise level :  0.4\n",
            "Percentage of 1's in first flip :  50.0 %\n",
            "Percentage of 1's in second flip :  55.00000000000001 %\n",
            "Percentage of 1's in augmented :  51.0 %\n",
            "Original Value ::  0.46000000834465027\n",
            "Mean value from local differntial privacy ::  0.874999976158142\n",
            "\n",
            "Size of db :  1000\n",
            "Noise level :  0.4\n",
            "Percentage of 1's in first flip :  59.0 %\n",
            "Percentage of 1's in second flip :  56.3 %\n",
            "Percentage of 1's in augmented :  52.300000000000004 %\n",
            "Original Value ::  0.49900001287460327\n",
            "Mean value from local differntial privacy ::  0.9075000047683714\n",
            "\n",
            "Size of db :  10000\n",
            "Noise level :  0.4\n",
            "Percentage of 1's in first flip :  60.209999999999994 %\n",
            "Percentage of 1's in second flip :  59.91 %\n",
            "Percentage of 1's in augmented :  53.47 %\n",
            "Original Value ::  0.4934999942779541\n",
            "Mean value from local differntial privacy ::  0.9367499411106108\n",
            "\n",
            "Size of db :  100000\n",
            "Noise level :  0.4\n",
            "Percentage of 1's in first flip :  60.135000000000005 %\n",
            "Percentage of 1's in second flip :  59.793 %\n",
            "Percentage of 1's in augmented :  53.705999999999996 %\n",
            "Original Value ::  0.49790000915527344\n",
            "Mean value from local differntial privacy ::  0.9426500558853148\n",
            "\n",
            "Size of db :  1000000\n",
            "Noise level :  0.4\n",
            "Percentage of 1's in first flip :  59.959399999999995 %\n",
            "Percentage of 1's in second flip :  59.88099999999999 %\n",
            "Percentage of 1's in augmented :  54.0324 %\n",
            "Original Value ::  0.5006440281867981\n",
            "Mean value from local differntial privacy ::  0.9508099317550658\n"
          ],
          "name": "stdout"
        }
      ]
    },
    {
      "cell_type": "code",
      "metadata": {
        "id": "OxAUV955w7lb",
        "colab_type": "code",
        "colab": {
          "base_uri": "https://localhost:8080/",
          "height": 833
        },
        "outputId": "58fdb490-029c-46db-bfbb-f7beef3bbd48"
      },
      "source": [
        "# for noise level 0.5\n",
        "noise_level = 0.5\n",
        "\n",
        "for i in [10,100,1000,10000,100000,1000000]:\n",
        "  print('\\nSize of db : ',i)\n",
        "  #creating original data, augmented data\n",
        "  db,aug_db = create_db_and_aug_db(i,noise_level)\n",
        "  #calculating the mean for original data, augmented data\n",
        "  org_mean = get_mean(db)\n",
        "  noise_mean  = get_mean(aug_db)\n",
        "\n",
        "  print(\"Original Value :: \",org_mean)\n",
        "  print(\"Mean value from local differntial privacy :: \",(noise_mean-noise_level+((1-noise_level)*noise_level))/noise_level)"
      ],
      "execution_count": 33,
      "outputs": [
        {
          "output_type": "stream",
          "text": [
            "\n",
            "Size of db :  10\n",
            "Noise level :  0.5\n",
            "Percentage of 1's in first flip :  40.0 %\n",
            "Percentage of 1's in second flip :  50.0 %\n",
            "Percentage of 1's in augmented :  60.0 %\n",
            "Original Value ::  0.5\n",
            "Mean value from local differntial privacy ::  0.7000000476837158\n",
            "\n",
            "Size of db :  100\n",
            "Noise level :  0.5\n",
            "Percentage of 1's in first flip :  51.0 %\n",
            "Percentage of 1's in second flip :  52.0 %\n",
            "Percentage of 1's in augmented :  47.0 %\n",
            "Original Value ::  0.4699999988079071\n",
            "Mean value from local differntial privacy ::  0.4399999976158142\n",
            "\n",
            "Size of db :  1000\n",
            "Noise level :  0.5\n",
            "Percentage of 1's in first flip :  50.2 %\n",
            "Percentage of 1's in second flip :  49.3 %\n",
            "Percentage of 1's in augmented :  50.6 %\n",
            "Original Value ::  0.48500001430511475\n",
            "Mean value from local differntial privacy ::  0.5119999647140503\n",
            "\n",
            "Size of db :  10000\n",
            "Noise level :  0.5\n",
            "Percentage of 1's in first flip :  48.68 %\n",
            "Percentage of 1's in second flip :  49.64 %\n",
            "Percentage of 1's in augmented :  50.260000000000005 %\n",
            "Original Value ::  0.5088000297546387\n",
            "Mean value from local differntial privacy ::  0.5052000284194946\n",
            "\n",
            "Size of db :  100000\n",
            "Noise level :  0.5\n",
            "Percentage of 1's in first flip :  49.925999999999995 %\n",
            "Percentage of 1's in second flip :  50.369 %\n",
            "Percentage of 1's in augmented :  50.163000000000004 %\n",
            "Original Value ::  0.5010799765586853\n",
            "Mean value from local differntial privacy ::  0.5032600164413452\n",
            "\n",
            "Size of db :  1000000\n",
            "Noise level :  0.5\n",
            "Percentage of 1's in first flip :  49.940400000000004 %\n",
            "Percentage of 1's in second flip :  49.894800000000004 %\n",
            "Percentage of 1's in augmented :  49.9944 %\n",
            "Original Value ::  0.4995819926261902\n",
            "Mean value from local differntial privacy ::  0.49988800287246704\n"
          ],
          "name": "stdout"
        }
      ]
    },
    {
      "cell_type": "code",
      "metadata": {
        "id": "1PW-E5fr5BKp",
        "colab_type": "code",
        "colab": {
          "base_uri": "https://localhost:8080/",
          "height": 833
        },
        "outputId": "16847788-36d2-4116-91d4-40b8ce1386fc"
      },
      "source": [
        "# for noise level 0.6\n",
        "noise_level = 0.6\n",
        "\n",
        "for i in [10,100,1000,10000,100000,1000000]:\n",
        "  print('\\nSize of db : ',i)\n",
        "  #creating original data, augmented data\n",
        "  db,aug_db = create_db_and_aug_db(i,noise_level)\n",
        "  #calculating the mean for original data, augmented data\n",
        "  org_mean = get_mean(db)\n",
        "  noise_mean  = get_mean(aug_db)\n",
        "\n",
        "  print(\"Original Value :: \",org_mean)\n",
        "  print(\"Mean value from local differntial privacy :: \",(noise_mean-noise_level+((1-noise_level)*noise_level))/noise_level)"
      ],
      "execution_count": 31,
      "outputs": [
        {
          "output_type": "stream",
          "text": [
            "\n",
            "Size of db :  10\n",
            "Noise level :  0.6\n",
            "Percentage of 1's in first flip :  30.0 %\n",
            "Percentage of 1's in second flip :  50.0 %\n",
            "Percentage of 1's in augmented :  50.0 %\n",
            "Original Value ::  0.4000000059604645\n",
            "Mean value from local differntial privacy ::  0.23333333333333336\n",
            "\n",
            "Size of db :  100\n",
            "Noise level :  0.6\n",
            "Percentage of 1's in first flip :  44.0 %\n",
            "Percentage of 1's in second flip :  40.0 %\n",
            "Percentage of 1's in augmented :  44.0 %\n",
            "Original Value ::  0.5099999904632568\n",
            "Mean value from local differntial privacy ::  0.1333333293596904\n",
            "\n",
            "Size of db :  1000\n",
            "Noise level :  0.6\n",
            "Percentage of 1's in first flip :  38.4 %\n",
            "Percentage of 1's in second flip :  40.400000000000006 %\n",
            "Percentage of 1's in augmented :  43.4 %\n",
            "Original Value ::  0.46299999952316284\n",
            "Mean value from local differntial privacy ::  0.12333330909411115\n",
            "\n",
            "Size of db :  10000\n",
            "Noise level :  0.6\n",
            "Percentage of 1's in first flip :  40.03 %\n",
            "Percentage of 1's in second flip :  39.56 %\n",
            "Percentage of 1's in augmented :  44.03 %\n",
            "Original Value ::  0.5047000050544739\n",
            "Mean value from local differntial privacy ::  0.13383331298828127\n",
            "\n",
            "Size of db :  100000\n",
            "Noise level :  0.6\n",
            "Percentage of 1's in first flip :  40.026 %\n",
            "Percentage of 1's in second flip :  39.974 %\n",
            "Percentage of 1's in augmented :  44.102999999999994 %\n",
            "Original Value ::  0.4991300106048584\n",
            "Mean value from local differntial privacy ::  0.13504999279975893\n",
            "\n",
            "Size of db :  1000000\n",
            "Noise level :  0.6\n",
            "Percentage of 1's in first flip :  39.900600000000004 %\n",
            "Percentage of 1's in second flip :  40.0802 %\n",
            "Percentage of 1's in augmented :  43.9771 %\n",
            "Original Value ::  0.5000860095024109\n",
            "Mean value from local differntial privacy ::  0.13295166095097863\n"
          ],
          "name": "stdout"
        }
      ]
    },
    {
      "cell_type": "code",
      "metadata": {
        "id": "J3RkGQHB5BKq",
        "colab_type": "code",
        "colab": {
          "base_uri": "https://localhost:8080/",
          "height": 833
        },
        "outputId": "1fd23fb0-eac8-4c94-a89f-df16484bde79"
      },
      "source": [
        "# for noise level 0.8\n",
        "noise_level = 0.8\n",
        "\n",
        "for i in [10,100,1000,10000,100000,1000000]:\n",
        "  print('\\nSize of db : ',i)\n",
        "  #creating original data, augmented data\n",
        "  db,aug_db = create_db_and_aug_db(i,noise_level)\n",
        "  #calculating the mean for original data, augmented data\n",
        "  org_mean = get_mean(db)\n",
        "  noise_mean  = get_mean(aug_db)\n",
        "\n",
        "  print(\"Original Value :: \",org_mean)\n",
        "  print(\"Mean value from local differntial privacy :: \",(noise_mean-noise_level+((1-noise_level)*noise_level))/noise_level)"
      ],
      "execution_count": 32,
      "outputs": [
        {
          "output_type": "stream",
          "text": [
            "\n",
            "Size of db :  10\n",
            "Noise level :  0.8\n",
            "Percentage of 1's in first flip :  10.0 %\n",
            "Percentage of 1's in second flip :  20.0 %\n",
            "Percentage of 1's in augmented :  30.0 %\n",
            "Original Value ::  0.6000000238418579\n",
            "Mean value from local differntial privacy ::  -0.42499998509883885\n",
            "\n",
            "Size of db :  100\n",
            "Noise level :  0.8\n",
            "Percentage of 1's in first flip :  24.0 %\n",
            "Percentage of 1's in second flip :  17.0 %\n",
            "Percentage of 1's in augmented :  24.0 %\n",
            "Original Value ::  0.46000000834465027\n",
            "Mean value from local differntial privacy ::  -0.5000000067055226\n",
            "\n",
            "Size of db :  1000\n",
            "Noise level :  0.8\n",
            "Percentage of 1's in first flip :  18.5 %\n",
            "Percentage of 1's in second flip :  18.6 %\n",
            "Percentage of 1's in augmented :  24.8 %\n",
            "Original Value ::  0.5109999775886536\n",
            "Mean value from local differntial privacy ::  -0.49000000506639485\n",
            "\n",
            "Size of db :  10000\n",
            "Noise level :  0.8\n",
            "Percentage of 1's in first flip :  19.53 %\n",
            "Percentage of 1's in second flip :  19.650000000000002 %\n",
            "Percentage of 1's in augmented :  25.35 %\n",
            "Original Value ::  0.49630001187324524\n",
            "Mean value from local differntial privacy ::  -0.4831249818205834\n",
            "\n",
            "Size of db :  100000\n",
            "Noise level :  0.8\n",
            "Percentage of 1's in first flip :  20.265 %\n",
            "Percentage of 1's in second flip :  20.11 %\n",
            "Percentage of 1's in augmented :  26.155 %\n",
            "Original Value ::  0.5003799796104431\n",
            "Mean value from local differntial privacy ::  -0.47306248843669896\n",
            "\n",
            "Size of db :  1000000\n",
            "Noise level :  0.8\n",
            "Percentage of 1's in first flip :  19.9272 %\n",
            "Percentage of 1's in second flip :  20.0187 %\n",
            "Percentage of 1's in augmented :  25.983800000000002 %\n",
            "Original Value ::  0.5007299780845642\n",
            "Mean value from local differntial privacy ::  -0.4752024814486504\n"
          ],
          "name": "stdout"
        }
      ]
    },
    {
      "cell_type": "code",
      "metadata": {
        "id": "wbL6I-o_5BKt",
        "colab_type": "code",
        "colab": {}
      },
      "source": [
        ""
      ],
      "execution_count": 0,
      "outputs": []
    },
    {
      "cell_type": "code",
      "metadata": {
        "id": "p4jnIgi65BKv",
        "colab_type": "code",
        "colab": {}
      },
      "source": [
        ""
      ],
      "execution_count": 0,
      "outputs": []
    },
    {
      "cell_type": "code",
      "metadata": {
        "id": "acMUugJ-5BKx",
        "colab_type": "code",
        "colab": {}
      },
      "source": [
        ""
      ],
      "execution_count": 0,
      "outputs": []
    },
    {
      "cell_type": "markdown",
      "metadata": {
        "id": "EuiU5Q4B5BKy",
        "colab_type": "text"
      },
      "source": [
        "# Lesson: The Formal Definition of Differential Privacy\n",
        "\n",
        "The previous method of adding noise was called \"Local Differentail Privacy\" because we added noise to each datapoint individually. This is necessary for some situations wherein the data is SO sensitive that individuals do not trust noise to be added later. However, it comes at a very high cost in terms of accuracy. \n",
        "\n",
        "However, alternatively we can add noise AFTER data has been aggregated by a function. This kind of noise can allow for similar levels of protection with a lower affect on accuracy. However, participants must be able to trust that no-one looked at their datapoints _before_ the aggregation took place. In some situations this works out well, in others (such as an individual hand-surveying a group of people), this is less realistic.\n",
        "\n",
        "Nevertheless, global differential privacy is incredibly important because it allows us to perform differential privacy on smaller groups of individuals with lower amounts of noise. Let's revisit our sum functions."
      ]
    },
    {
      "cell_type": "code",
      "metadata": {
        "id": "yNQs1VWV5BKz",
        "colab_type": "code",
        "outputId": "4cc4f3c7-7e64-46eb-b3c4-d02eb295d347",
        "colab": {
          "base_uri": "https://localhost:8080/",
          "height": 34
        }
      },
      "source": [
        "db, pdbs = get_db_and_parallel(100)\n",
        "\n",
        "def query(db):\n",
        "    return torch.sum(db.float())\n",
        "\n",
        "def M(db):\n",
        "    query(db) + noise\n",
        "\n",
        "query(db)"
      ],
      "execution_count": 0,
      "outputs": [
        {
          "output_type": "execute_result",
          "data": {
            "text/plain": [
              "tensor(53.)"
            ]
          },
          "metadata": {
            "tags": []
          },
          "execution_count": 30
        }
      ]
    },
    {
      "cell_type": "markdown",
      "metadata": {
        "id": "spyNhiCd5BK0",
        "colab_type": "text"
      },
      "source": [
        "So the idea here is that we want to add noise to the output of our function. We actually have two different kinds of noise we can add - Laplacian Noise or Gaussian Noise. However, before we do so at this point we need to dive into the formal definition of Differential Privacy.\n",
        "\n",
        "![alt text](dp_formula.png \"Title\")"
      ]
    },
    {
      "cell_type": "markdown",
      "metadata": {
        "id": "wdNKR7f_5BK1",
        "colab_type": "text"
      },
      "source": [
        "_Image From: \"The Algorithmic Foundations of Differential Privacy\" - Cynthia Dwork and Aaron Roth - https://www.cis.upenn.edu/~aaroth/Papers/privacybook.pdf_"
      ]
    },
    {
      "cell_type": "markdown",
      "metadata": {
        "id": "K9h85ktU5BK1",
        "colab_type": "text"
      },
      "source": [
        "This definition does not _create_ differential privacy, instead it is a measure of how much privacy is afforded by a query M. Specifically, it's a comparison between running the query M on a database (x) and a parallel database (y). As you remember, parallel databases are defined to be the same as a full database (x) with one entry/person removed.\n",
        "\n",
        "Thus, this definition says that FOR ALL parallel databases, the maximum distance between a query on database (x) and the same query on database (y) will be e^epsilon, but that occasionally this constraint won't hold with probability delta. Thus, this theorem is called \"epsilon delta\" differential privacy.\n",
        "\n",
        "# Epsilon\n",
        "\n",
        "Let's unpack the intuition of this for a moment. \n",
        "\n",
        "Epsilon Zero: If a query satisfied this inequality where epsilon was set to 0, then that would mean that the query for all parallel databases outputed the exact same value as the full database. As you may remember, when we calculated the \"threshold\" function, often the Sensitivity was 0. In that case, the epsilon also happened to be zero.\n",
        "\n",
        "Epsilon One: If a query satisfied this inequality with epsilon 1, then the maximum distance between all queries would be 1 - or more precisely - the maximum distance between the two random distributions M(x) and M(y) is 1 (because all these queries have some amount of randomness in them, just like we observed in the last section).\n",
        "\n",
        "# Delta\n",
        "\n",
        "Delta is basically the probability that epsilon breaks. Namely, sometimes the epsilon is different for some queries than it is for others. For example, you may remember when we were calculating the sensitivity of threshold, most of the time sensitivity was 0 but sometimes it was 1. Thus, we could calculate this as \"epsilon zero but non-zero delta\" which would say that epsilon is perfect except for some probability of the time when it's arbitrarily higher. Note that this expression doesn't represent the full tradeoff between epsilon and delta."
      ]
    },
    {
      "cell_type": "markdown",
      "metadata": {
        "id": "MV12MsPI5BK1",
        "colab_type": "text"
      },
      "source": [
        "# Lesson: How To Add Noise for Global Differential Privacy\n",
        "\n",
        "In this lesson, we're going to learn about how to take a query and add varying amounts of noise so that it satisfies a certain degree of differential privacy. In particular, we're going to leave behind the Local Differential privacy previously discussed and instead opt to focus on Global differential privacy. \n",
        "\n",
        "So, to sum up, this lesson is about adding noise to the output of our query so that it satisfies a certain epsilon-delta differential privacy threshold.\n",
        "\n",
        "There are two kinds of noise we can add - Gaussian Noise or Laplacian Noise. Generally speaking Laplacian is better, but both are still valid. Now to the hard question...\n",
        "\n",
        "### How much noise should we add?\n",
        "\n",
        "The amount of noise necessary to add to the output of a query is a function of four things:\n",
        "\n",
        "- the type of noise (Gaussian/Laplacian)\n",
        "- the sensitivity of the query/function\n",
        "- the desired epsilon (ε)\n",
        "- the desired delta (δ)\n",
        "\n",
        "Thus, for each type of noise we're adding, we have different way of calculating how much to add as a function of sensitivity, epsilon, and delta. We're going to focus on Laplacian noise. Laplacian noise is increased/decreased according to a \"scale\" parameter b. We choose \"b\" based on the following formula.\n",
        "\n",
        "b = sensitivity(query) / epsilon\n",
        "\n",
        "In other words, if we set b to be this value, then we know that we will have a privacy leakage of <= epsilon. Furthermore, the nice thing about Laplace is that it guarantees this with delta == 0. There are some tunings where we can have very low epsilon where delta is non-zero, but we'll ignore them for now.\n",
        "\n",
        "### Querying Repeatedly\n",
        "\n",
        "- if we query the database multiple times - we can simply add the epsilons (Even if we change the amount of noise and their epsilons are not the same)."
      ]
    },
    {
      "cell_type": "code",
      "metadata": {
        "id": "hRcJfnp45BK2",
        "colab_type": "code",
        "colab": {}
      },
      "source": [
        ""
      ],
      "execution_count": 0,
      "outputs": []
    },
    {
      "cell_type": "markdown",
      "metadata": {
        "id": "x8r7HiI25BK2",
        "colab_type": "text"
      },
      "source": [
        "# Project: Create a Differentially Private Query\n",
        "\n",
        "In this project, I want you to take what you learned in the previous lesson and create a query function which sums over the database and adds just the right amount of noise such that it satisfies an epsilon constraint. Write a query for both \"sum\" and for \"mean\". Ensure that you use the correct sensitivity measures for both."
      ]
    },
    {
      "cell_type": "code",
      "metadata": {
        "id": "TaFnnkFg5BK3",
        "colab_type": "code",
        "colab": {}
      },
      "source": [
        "# try this project here!\n",
        "import torch\n",
        "\n",
        "def create_db(entries):\n",
        "  return torch.rand(entries) > 0.5\n",
        "\n",
        "# create a function to create paraller db\n",
        "def get_parallel_dbs(db):\n",
        "\n",
        "    parallel_dbs = list()\n",
        "\n",
        "    for i in range(len(db)):\n",
        "        pdb = torch.cat((db[0:i], db[i+1:]))\n",
        "        parallel_dbs.append(pdb)\n",
        "    #print(f'A databse of size {db.shape} was created')\n",
        "    return parallel_dbs\n",
        "  \n",
        "def sensitivity(query, num_items):\n",
        "  \n",
        "  # generate the db and the pdbs\n",
        "  db = torch.rand(num_items) > 0.5\n",
        "  pdbs = get_parallel_dbs(db)\n",
        "  \n",
        "  # query the db\n",
        "  db_result = query(db)\n",
        "  \n",
        "  # return the value of sensitivity\n",
        "  # loop on each pdb in the pdbs and calculate its distance\n",
        "  # find the maximum distance <-- that's your sensitivity\n",
        "  sensitivity = 0\n",
        "  for pdb in pdbs:\n",
        "    parallel_db_result = query(pdb)\n",
        "    distance = db_result - parallel_db_result\n",
        "    if(distance>sensitivity):\n",
        "      sensitivity = distance\n",
        "  return sensitivity \n",
        "\n",
        "# recreate the sum query we created earlier\n",
        "def total(db):\n",
        "  return torch.sum(db)\n",
        "\n",
        "# create a new query function, which finds the mean rather than the sum\n",
        "def get_mean(db):\n",
        "  total = torch.sum(db.float())\n",
        "  return torch.div(total,len(db))\n",
        "\n"
      ],
      "execution_count": 0,
      "outputs": []
    },
    {
      "cell_type": "code",
      "metadata": {
        "id": "9LlDtc0b5BK5",
        "colab_type": "code",
        "colab": {}
      },
      "source": [
        "import numpy as np\n",
        "def M(query,db,noise):\n",
        "  return query(db) + noise.item()\n",
        "\n"
      ],
      "execution_count": 0,
      "outputs": []
    },
    {
      "cell_type": "code",
      "metadata": {
        "id": "DiyjnaXm5BK6",
        "colab_type": "code",
        "colab": {}
      },
      "source": [
        "def global_privacy(query,epsilon,db):\n",
        "  beta = sensitivity(query,len(db)).float().item()/epsilon\n",
        "  noise = np.random.laplace(0, beta, 1)\n",
        "  return M(query,db,noise).item()"
      ],
      "execution_count": 0,
      "outputs": []
    },
    {
      "cell_type": "code",
      "metadata": {
        "id": "cqJSW-n-5BK7",
        "colab_type": "code",
        "outputId": "8fb3f7c0-bb74-42fa-aec5-af7564a27d40",
        "colab": {
          "base_uri": "https://localhost:8080/",
          "height": 52
        }
      },
      "source": [
        "db = create_db(100)\n",
        "print(\"Real value :: \",total(db).item())\n",
        "print(\"Globally DP value for e=0.5:: \",global_privacy(total,0.5,db))"
      ],
      "execution_count": 0,
      "outputs": [
        {
          "output_type": "stream",
          "text": [
            "Real value ::  47\n",
            "Globally DP value for e=0.5::  49\n"
          ],
          "name": "stdout"
        }
      ]
    },
    {
      "cell_type": "code",
      "metadata": {
        "id": "XiPXzxWH5BK8",
        "colab_type": "code",
        "outputId": "808c6f07-f8c1-4fb6-b838-7f2a6bf42d5f",
        "colab": {
          "base_uri": "https://localhost:8080/",
          "height": 52
        }
      },
      "source": [
        "db = create_db(100)\n",
        "print(\"Real value :: \",total(db).item())\n",
        "print(\"Globally DP value for e=1:: \",global_privacy(total,0.1,db))"
      ],
      "execution_count": 0,
      "outputs": [
        {
          "output_type": "stream",
          "text": [
            "Real value ::  58\n",
            "Globally DP value for e=1::  57\n"
          ],
          "name": "stdout"
        }
      ]
    },
    {
      "cell_type": "code",
      "metadata": {
        "id": "Mkvlk72r5BK9",
        "colab_type": "code",
        "outputId": "6d4aef98-f636-4e69-a2ce-2ad6f61bb400",
        "colab": {
          "base_uri": "https://localhost:8080/",
          "height": 52
        }
      },
      "source": [
        "db = create_db(100)\n",
        "print(\"Real value :: \",total(db).item())\n",
        "print(\"Globally DP value for e=0.0015:: \",global_privacy(total,0.0015,db))"
      ],
      "execution_count": 0,
      "outputs": [
        {
          "output_type": "stream",
          "text": [
            "Real value ::  44\n",
            "Globally DP value for e=0.0015::  150\n"
          ],
          "name": "stdout"
        }
      ]
    },
    {
      "cell_type": "code",
      "metadata": {
        "id": "PXqd5HNZ5BK-",
        "colab_type": "code",
        "outputId": "1f52596e-3404-4c74-80b9-c29feb5993a5",
        "colab": {
          "base_uri": "https://localhost:8080/",
          "height": 52
        }
      },
      "source": [
        "db = create_db(100)\n",
        "print(\"Real value :: \",get_mean(db).item())\n",
        "print(\"Globally DP value for e=0.15:: \",global_privacy(get_mean,0.15,db))"
      ],
      "execution_count": 0,
      "outputs": [
        {
          "output_type": "stream",
          "text": [
            "Real value ::  0.5099999904632568\n",
            "Globally DP value for e=0.15::  0.5160292983055115\n"
          ],
          "name": "stdout"
        }
      ]
    },
    {
      "cell_type": "code",
      "metadata": {
        "id": "xZK2hA8U5BK_",
        "colab_type": "code",
        "outputId": "5732f4ab-019d-4686-ba04-f615f17358bb",
        "colab": {
          "base_uri": "https://localhost:8080/",
          "height": 52
        }
      },
      "source": [
        "db = create_db(100)\n",
        "print(\"Real value :: \",get_mean(db).item())\n",
        "print(\"Globally DP value for e=1:: \",global_privacy(get_mean,1,db))"
      ],
      "execution_count": 0,
      "outputs": [
        {
          "output_type": "stream",
          "text": [
            "Real value ::  0.46000000834465027\n",
            "Globally DP value for e=1::  0.4573287069797516\n"
          ],
          "name": "stdout"
        }
      ]
    },
    {
      "cell_type": "code",
      "metadata": {
        "id": "sH0DVicA5BLA",
        "colab_type": "code",
        "outputId": "89a4fcd4-dc27-4fd3-e0a4-e38fb6a9e766",
        "colab": {
          "base_uri": "https://localhost:8080/",
          "height": 52
        }
      },
      "source": [
        "db = create_db(100)\n",
        "print(\"Real value :: \",get_mean(db).item())\n",
        "print(\"Globally DP value for e=0.5:: \",global_privacy(get_mean,0.5,db))"
      ],
      "execution_count": 0,
      "outputs": [
        {
          "output_type": "stream",
          "text": [
            "Real value ::  0.5600000023841858\n",
            "Globally DP value for e=0.5::  0.5520608425140381\n"
          ],
          "name": "stdout"
        }
      ]
    },
    {
      "cell_type": "markdown",
      "metadata": {
        "id": "JFrUdcRH5BLB",
        "colab_type": "text"
      },
      "source": [
        "# Lesson: Differential Privacy for Deep Learning\n",
        "\n",
        "So in the last lessons you may have been wondering - what does all of this have to do with Deep Learning? Well, these same techniques we were just studying form the core primitives for how Differential Privacy provides guarantees in the context of Deep Learning. \n",
        "\n",
        "Previously, we defined perfect privacy as \"a query to a database returns the same value even if we remove any person from the database\", and used this intuition in the description of epsilon/delta. In the context of deep learning we have a similar standard.\n",
        "\n",
        "Training a model on a dataset should return the same model even if we remove any person from the dataset.\n",
        "\n",
        "Thus, we've replaced \"querying a database\" with \"training a model on a dataset\". In essence, the training process is a kind of query. However, one should note that this adds two points of complexity which database queries did not have:\n",
        "\n",
        "    1. do we always know where \"people\" are referenced in the dataset?\n",
        "    2. neural models rarely never train to the same output model, even on identical data\n",
        "\n",
        "The answer to (1) is to treat each training example as a single, separate person. Strictly speaking, this is often overly zealous as some training examples have no relevance to people and others may have multiple/partial (consider an image with multiple people contained within it). Thus, localizing exactly where \"people\" are referenced, and thus how much your model would change if people were removed, is challenging.\n",
        "\n",
        "The answer to (2) is also an open problem - but several interesitng proposals have been made. We're going to focus on one of the most popular proposals, PATE.\n",
        "\n",
        "## An Example Scenario: A Health Neural Network\n",
        "\n",
        "First we're going to consider a scenario - you work for a hospital and you have a large collection of images about your patients. However, you don't know what's in them. You would like to use these images to develop a neural network which can automatically classify them, however since your images aren't labeled, they aren't sufficient to train a classifier. \n",
        "\n",
        "However, being a cunning strategist, you realize that you can reach out to 10 partner hospitals which DO have annotated data. It is your hope to train your new classifier on their datasets so that you can automatically label your own. While these hospitals are interested in helping, they have privacy concerns regarding information about their patients. Thus, you will use the following technique to train a classifier which protects the privacy of patients in the other hospitals.\n",
        "\n",
        "- 1) You'll ask each of the 10 hospitals to train a model on their own datasets (All of which have the same kinds of labels)\n",
        "- 2) You'll then use each of the 10 partner models to predict on your local dataset, generating 10 labels for each of your datapoints\n",
        "- 3) Then, for each local data point (now with 10 labels), you will perform a DP query to generate the final true label. This query is a \"max\" function, where \"max\" is the most frequent label across the 10 labels. We will need to add laplacian noise to make this Differentially Private to a certain epsilon/delta constraint.\n",
        "- 4) Finally, we will retrain a new model on our local dataset which now has labels. This will be our final \"DP\" model.\n",
        "\n",
        "So, let's walk through these steps. I will assume you're already familiar with how to train/predict a deep neural network, so we'll skip steps 1 and 2 and work with example data. We'll focus instead on step 3, namely how to perform the DP query for each example using toy data.\n",
        "\n",
        "So, let's say we have 10,000 training examples, and we've got 10 labels for each example (from our 10 \"teacher models\" which were trained directly on private data). Each label is chosen from a set of 10 possible labels (categories) for each image."
      ]
    },
    {
      "cell_type": "code",
      "metadata": {
        "id": "pPYsz4z55BLC",
        "colab_type": "code",
        "colab": {}
      },
      "source": [
        "import numpy as np"
      ],
      "execution_count": 0,
      "outputs": []
    },
    {
      "cell_type": "code",
      "metadata": {
        "id": "3TAxH0ZV5BLE",
        "colab_type": "code",
        "colab": {}
      },
      "source": [
        "num_teachers = 10 # we're working with 10 partner hospitals\n",
        "num_examples = 10000 # the size of OUR dataset\n",
        "num_labels = 10 # number of lablels for our classifier"
      ],
      "execution_count": 0,
      "outputs": []
    },
    {
      "cell_type": "code",
      "metadata": {
        "id": "e3pfLJQ-5BLG",
        "colab_type": "code",
        "colab": {}
      },
      "source": [
        "preds = (np.random.rand(num_teachers, num_examples) * num_labels).astype(int).transpose(1,0) # fake predictions"
      ],
      "execution_count": 0,
      "outputs": []
    },
    {
      "cell_type": "code",
      "metadata": {
        "id": "tbBANFve5BLJ",
        "colab_type": "code",
        "colab": {}
      },
      "source": [
        "new_labels = list()\n",
        "for an_image in preds:\n",
        "\n",
        "    label_counts = np.bincount(an_image, minlength=num_labels)\n",
        "\n",
        "    epsilon = 0.1\n",
        "    beta = 1 / epsilon\n",
        "\n",
        "    for i in range(len(label_counts)):\n",
        "        label_counts[i] += np.random.laplace(0, beta, 1)\n",
        "\n",
        "    new_label = np.argmax(label_counts)\n",
        "    \n",
        "    new_labels.append(new_label)"
      ],
      "execution_count": 0,
      "outputs": []
    },
    {
      "cell_type": "code",
      "metadata": {
        "id": "ilgSYTTG5BLK",
        "colab_type": "code",
        "colab": {}
      },
      "source": [
        "# new_labels"
      ],
      "execution_count": 0,
      "outputs": []
    },
    {
      "cell_type": "markdown",
      "metadata": {
        "id": "Q8CwLoPU5BLM",
        "colab_type": "text"
      },
      "source": [
        "# PATE Analysis"
      ]
    },
    {
      "cell_type": "code",
      "metadata": {
        "id": "YnI2I8JJ5BLN",
        "colab_type": "code",
        "outputId": "d0c38ec0-fb5a-4a40-8cad-5e8683109e00",
        "colab": {
          "base_uri": "https://localhost:8080/",
          "height": 34
        }
      },
      "source": [
        "labels = np.array([9, 9, 3, 6, 9, 9, 9, 9, 8, 2])\n",
        "counts = np.bincount(labels, minlength=10)\n",
        "query_result = np.argmax(counts)\n",
        "query_result"
      ],
      "execution_count": 0,
      "outputs": [
        {
          "output_type": "execute_result",
          "data": {
            "text/plain": [
              "9"
            ]
          },
          "metadata": {
            "tags": []
          },
          "execution_count": 42
        }
      ]
    },
    {
      "cell_type": "code",
      "metadata": {
        "id": "yIBbL-pe5BLO",
        "colab_type": "code",
        "outputId": "a628c7ee-9483-46e9-b767-dd5e937f5100",
        "colab": {
          "base_uri": "https://localhost:8080/",
          "height": 1441
        }
      },
      "source": [
        "!pip install syft\n",
        "\n",
        "from syft.frameworks.torch.differential_privacy import pate"
      ],
      "execution_count": 0,
      "outputs": [
        {
          "output_type": "stream",
          "text": [
            "Collecting syft\n",
            "\u001b[?25l  Downloading https://files.pythonhosted.org/packages/1d/f4/ed95c5f6664d37a70c345f41e1bdceadc5efb2f478e2c6cd4de34f3a709a/syft-0.1.18-py3-none-any.whl (186kB)\n",
            "\u001b[K     |████████████████████████████████| 194kB 33.7MB/s \n",
            "\u001b[?25hRequirement already satisfied: Flask in /usr/local/lib/python3.6/dist-packages (from syft) (1.0.3)\n",
            "Requirement already satisfied: msgpack in /usr/local/lib/python3.6/dist-packages (from syft) (0.5.6)\n",
            "Collecting tf-encrypted>=0.5.4 (from syft)\n",
            "\u001b[?25l  Downloading https://files.pythonhosted.org/packages/c6/4f/b785dd7286a7ebaf25af213dff11100ca09d6ff82d6186ffe0ba72e593ad/tf_encrypted-0.5.5-py3-none-manylinux1_x86_64.whl (1.4MB)\n",
            "\u001b[K     |████████████████████████████████| 1.4MB 42.8MB/s \n",
            "\u001b[?25hCollecting flask-socketio (from syft)\n",
            "  Downloading https://files.pythonhosted.org/packages/4b/68/fe4806d3a0a5909d274367eb9b3b87262906c1515024f46c2443a36a0c82/Flask_SocketIO-4.1.0-py2.py3-none-any.whl\n",
            "Collecting lz4 (from syft)\n",
            "\u001b[?25l  Downloading https://files.pythonhosted.org/packages/0a/c6/96bbb3525a63ebc53ea700cc7d37ab9045542d33b4d262d0f0408ad9bbf2/lz4-2.1.10-cp36-cp36m-manylinux1_x86_64.whl (385kB)\n",
            "\u001b[K     |████████████████████████████████| 389kB 57.0MB/s \n",
            "\u001b[?25hRequirement already satisfied: torchvision>=0.3.0 in /usr/local/lib/python3.6/dist-packages (from syft) (0.3.0)\n",
            "Collecting websockets>=7.0 (from syft)\n",
            "\u001b[?25l  Downloading https://files.pythonhosted.org/packages/43/71/8bfa882b9c502c36e5c9ef6732969533670d2b039cbf95a82ced8f762b80/websockets-7.0-cp36-cp36m-manylinux1_x86_64.whl (63kB)\n",
            "\u001b[K     |████████████████████████████████| 71kB 32.0MB/s \n",
            "\u001b[?25hCollecting zstd (from syft)\n",
            "\u001b[?25l  Downloading https://files.pythonhosted.org/packages/8e/27/1ea8086d37424e83ab692015cc8dd7d5e37cf791e339633a40dc828dfb74/zstd-1.4.0.0.tar.gz (450kB)\n",
            "\u001b[K     |████████████████████████████████| 450kB 56.1MB/s \n",
            "\u001b[?25hRequirement already satisfied: tblib in /usr/local/lib/python3.6/dist-packages (from syft) (1.4.0)\n",
            "Collecting websocket-client (from syft)\n",
            "\u001b[?25l  Downloading https://files.pythonhosted.org/packages/29/19/44753eab1fdb50770ac69605527e8859468f3c0fd7dc5a76dd9c4dbd7906/websocket_client-0.56.0-py2.py3-none-any.whl (200kB)\n",
            "\u001b[K     |████████████████████████████████| 204kB 47.1MB/s \n",
            "\u001b[?25hRequirement already satisfied: torch>=1.1 in /usr/local/lib/python3.6/dist-packages (from syft) (1.1.0)\n",
            "Requirement already satisfied: sklearn in /usr/local/lib/python3.6/dist-packages (from syft) (0.0)\n",
            "Requirement already satisfied: click>=5.1 in /usr/local/lib/python3.6/dist-packages (from Flask->syft) (7.0)\n",
            "Requirement already satisfied: Werkzeug>=0.14 in /usr/local/lib/python3.6/dist-packages (from Flask->syft) (0.15.4)\n",
            "Requirement already satisfied: Jinja2>=2.10 in /usr/local/lib/python3.6/dist-packages (from Flask->syft) (2.10.1)\n",
            "Requirement already satisfied: itsdangerous>=0.24 in /usr/local/lib/python3.6/dist-packages (from Flask->syft) (1.1.0)\n",
            "Collecting pyyaml>=5.1 (from tf-encrypted>=0.5.4->syft)\n",
            "\u001b[?25l  Downloading https://files.pythonhosted.org/packages/a3/65/837fefac7475963d1eccf4aa684c23b95aa6c1d033a2c5965ccb11e22623/PyYAML-5.1.1.tar.gz (274kB)\n",
            "\u001b[K     |████████████████████████████████| 276kB 54.7MB/s \n",
            "\u001b[?25hRequirement already satisfied: numpy>=1.14.0 in /usr/local/lib/python3.6/dist-packages (from tf-encrypted>=0.5.4->syft) (1.16.4)\n",
            "Requirement already satisfied: tensorflow<2,>=1.12.0 in /usr/local/lib/python3.6/dist-packages (from tf-encrypted>=0.5.4->syft) (1.14.0rc1)\n",
            "Collecting python-socketio>=2.1.0 (from flask-socketio->syft)\n",
            "\u001b[?25l  Downloading https://files.pythonhosted.org/packages/c8/e0/a875abbb0f9d70c6e2ec2019ca9e3893377cef5deca6225ead3497000152/python_socketio-4.1.0-py2.py3-none-any.whl (46kB)\n",
            "\u001b[K     |████████████████████████████████| 51kB 22.8MB/s \n",
            "\u001b[?25hRequirement already satisfied: six in /usr/local/lib/python3.6/dist-packages (from torchvision>=0.3.0->syft) (1.12.0)\n",
            "Requirement already satisfied: pillow>=4.1.1 in /usr/local/lib/python3.6/dist-packages (from torchvision>=0.3.0->syft) (4.3.0)\n",
            "Requirement already satisfied: scikit-learn in /usr/local/lib/python3.6/dist-packages (from sklearn->syft) (0.21.2)\n",
            "Requirement already satisfied: MarkupSafe>=0.23 in /usr/local/lib/python3.6/dist-packages (from Jinja2>=2.10->Flask->syft) (1.1.1)\n",
            "Requirement already satisfied: grpcio>=1.8.6 in /usr/local/lib/python3.6/dist-packages (from tensorflow<2,>=1.12.0->tf-encrypted>=0.5.4->syft) (1.15.0)\n",
            "Requirement already satisfied: keras-preprocessing>=1.0.5 in /usr/local/lib/python3.6/dist-packages (from tensorflow<2,>=1.12.0->tf-encrypted>=0.5.4->syft) (1.1.0)\n",
            "Requirement already satisfied: gast>=0.2.0 in /usr/local/lib/python3.6/dist-packages (from tensorflow<2,>=1.12.0->tf-encrypted>=0.5.4->syft) (0.2.2)\n",
            "Requirement already satisfied: tensorboard<1.14.0,>=1.13.0 in /usr/local/lib/python3.6/dist-packages (from tensorflow<2,>=1.12.0->tf-encrypted>=0.5.4->syft) (1.13.1)\n",
            "Requirement already satisfied: absl-py>=0.7.0 in /usr/local/lib/python3.6/dist-packages (from tensorflow<2,>=1.12.0->tf-encrypted>=0.5.4->syft) (0.7.1)\n",
            "Requirement already satisfied: wrapt>=1.11.1 in /usr/local/lib/python3.6/dist-packages (from tensorflow<2,>=1.12.0->tf-encrypted>=0.5.4->syft) (1.11.1)\n",
            "Requirement already satisfied: keras-applications>=1.0.6 in /usr/local/lib/python3.6/dist-packages (from tensorflow<2,>=1.12.0->tf-encrypted>=0.5.4->syft) (1.0.8)\n",
            "Requirement already satisfied: tensorflow-estimator<1.15.0rc0,>=1.14.0rc0 in /usr/local/lib/python3.6/dist-packages (from tensorflow<2,>=1.12.0->tf-encrypted>=0.5.4->syft) (1.14.0rc1)\n",
            "Requirement already satisfied: termcolor>=1.1.0 in /usr/local/lib/python3.6/dist-packages (from tensorflow<2,>=1.12.0->tf-encrypted>=0.5.4->syft) (1.1.0)\n",
            "Requirement already satisfied: wheel>=0.26 in /usr/local/lib/python3.6/dist-packages (from tensorflow<2,>=1.12.0->tf-encrypted>=0.5.4->syft) (0.33.4)\n",
            "Requirement already satisfied: google-pasta>=0.1.6 in /usr/local/lib/python3.6/dist-packages (from tensorflow<2,>=1.12.0->tf-encrypted>=0.5.4->syft) (0.1.7)\n",
            "Requirement already satisfied: protobuf>=3.6.1 in /usr/local/lib/python3.6/dist-packages (from tensorflow<2,>=1.12.0->tf-encrypted>=0.5.4->syft) (3.7.1)\n",
            "Requirement already satisfied: astor>=0.6.0 in /usr/local/lib/python3.6/dist-packages (from tensorflow<2,>=1.12.0->tf-encrypted>=0.5.4->syft) (0.8.0)\n",
            "Collecting python-engineio>=3.8.0 (from python-socketio>=2.1.0->flask-socketio->syft)\n",
            "\u001b[?25l  Downloading https://files.pythonhosted.org/packages/9c/d3/de0fa7ebebd054de308e6ac397bf9e11ea42924795a38005a21ea001b114/python_engineio-3.8.1-py2.py3-none-any.whl (119kB)\n",
            "\u001b[K     |████████████████████████████████| 122kB 53.0MB/s \n",
            "\u001b[?25hRequirement already satisfied: olefile in /usr/local/lib/python3.6/dist-packages (from pillow>=4.1.1->torchvision>=0.3.0->syft) (0.46)\n",
            "Requirement already satisfied: scipy>=0.17.0 in /usr/local/lib/python3.6/dist-packages (from scikit-learn->sklearn->syft) (1.3.0)\n",
            "Requirement already satisfied: joblib>=0.11 in /usr/local/lib/python3.6/dist-packages (from scikit-learn->sklearn->syft) (0.13.2)\n",
            "Requirement already satisfied: markdown>=2.6.8 in /usr/local/lib/python3.6/dist-packages (from tensorboard<1.14.0,>=1.13.0->tensorflow<2,>=1.12.0->tf-encrypted>=0.5.4->syft) (3.1.1)\n",
            "Requirement already satisfied: h5py in /usr/local/lib/python3.6/dist-packages (from keras-applications>=1.0.6->tensorflow<2,>=1.12.0->tf-encrypted>=0.5.4->syft) (2.8.0)\n",
            "Requirement already satisfied: setuptools in /usr/local/lib/python3.6/dist-packages (from protobuf>=3.6.1->tensorflow<2,>=1.12.0->tf-encrypted>=0.5.4->syft) (41.0.1)\n",
            "Building wheels for collected packages: zstd, pyyaml\n",
            "  Building wheel for zstd (setup.py) ... \u001b[?25l\u001b[?25hdone\n",
            "  Stored in directory: /root/.cache/pip/wheels/ad/9a/f4/3105b5209674ac77fcca7fede95184c62a95df0196888e0e76\n",
            "  Building wheel for pyyaml (setup.py) ... \u001b[?25l\u001b[?25hdone\n",
            "  Stored in directory: /root/.cache/pip/wheels/16/27/a1/775c62ddea7bfa62324fd1f65847ed31c55dadb6051481ba3f\n",
            "Successfully built zstd pyyaml\n",
            "Installing collected packages: pyyaml, tf-encrypted, python-engineio, python-socketio, flask-socketio, lz4, websockets, zstd, websocket-client, syft\n",
            "  Found existing installation: PyYAML 3.13\n",
            "    Uninstalling PyYAML-3.13:\n",
            "      Successfully uninstalled PyYAML-3.13\n",
            "Successfully installed flask-socketio-4.1.0 lz4-2.1.10 python-engineio-3.8.1 python-socketio-4.1.0 pyyaml-5.1.1 syft-0.1.18 tf-encrypted-0.5.5 websocket-client-0.56.0 websockets-7.0 zstd-1.4.0.0\n"
          ],
          "name": "stdout"
        },
        {
          "output_type": "stream",
          "text": [
            "WARNING: Logging before flag parsing goes to stderr.\n",
            "W0621 00:16:00.758938 140269902026624 secure_random.py:22] Falling back to insecure randomness since the required custom op could not be found for the installed version of TensorFlow (1.14.0-rc1). Fix this by compiling custom ops.\n",
            "W0621 00:16:00.849440 140269902026624 deprecation_wrapper.py:119] From /usr/local/lib/python3.6/dist-packages/tf_encrypted/session.py:28: The name tf.Session is deprecated. Please use tf.compat.v1.Session instead.\n",
            "\n"
          ],
          "name": "stderr"
        }
      ]
    },
    {
      "cell_type": "code",
      "metadata": {
        "id": "2c4UfAMS5BLP",
        "colab_type": "code",
        "outputId": "cb41794e-7b4f-4dcc-b5e6-dcf13c90d576",
        "colab": {
          "base_uri": "https://localhost:8080/",
          "height": 34
        }
      },
      "source": [
        "num_teachers, num_examples, num_labels = (100, 100, 10)\n",
        "preds = (np.random.rand(num_teachers, num_examples) * num_labels).astype(int) #fake preds\n",
        "indices = (np.random.rand(num_examples) * num_labels).astype(int) # true answers\n",
        "\n",
        "preds[:,0:10] *= 0\n",
        "\n",
        "data_dep_eps, data_ind_eps = pate.perform_analysis(teacher_preds=preds, indices=indices, noise_eps=0.1, delta=1e-5)\n",
        "\n",
        "assert data_dep_eps < data_ind_eps\n",
        "\n"
      ],
      "execution_count": 0,
      "outputs": [
        {
          "output_type": "stream",
          "text": [
            "Warning: May not have used enough values of l. Increase 'moments' variable and run again.\n"
          ],
          "name": "stdout"
        }
      ]
    },
    {
      "cell_type": "code",
      "metadata": {
        "id": "jYFELQAS5BLR",
        "colab_type": "code",
        "outputId": "d7cf50a6-6b2f-429e-a9e0-c114bac4c2e3",
        "colab": {
          "base_uri": "https://localhost:8080/",
          "height": 70
        }
      },
      "source": [
        "data_dep_eps, data_ind_eps = pate.perform_analysis(teacher_preds=preds, indices=indices, noise_eps=0.1, delta=1e-5)\n",
        "print(\"Data Independent Epsilon:\", data_ind_eps)\n",
        "print(\"Data Dependent Epsilon:\", data_dep_eps)"
      ],
      "execution_count": 0,
      "outputs": [
        {
          "output_type": "stream",
          "text": [
            "Warning: May not have used enough values of l. Increase 'moments' variable and run again.\n",
            "Data Independent Epsilon: 11.756462732485115\n",
            "Data Dependent Epsilon: 1.52655213289881\n"
          ],
          "name": "stdout"
        }
      ]
    },
    {
      "cell_type": "code",
      "metadata": {
        "id": "Su13AQzz5BLT",
        "colab_type": "code",
        "colab": {}
      },
      "source": [
        "preds[:,0:50] *= 0"
      ],
      "execution_count": 0,
      "outputs": []
    },
    {
      "cell_type": "code",
      "metadata": {
        "id": "LLn5KRKU5BLT",
        "colab_type": "code",
        "outputId": "2fc6eddf-6700-45c1-9058-ba57930a6b86",
        "colab": {
          "base_uri": "https://localhost:8080/",
          "height": 52
        }
      },
      "source": [
        "data_dep_eps, data_ind_eps = pate.perform_analysis(teacher_preds=preds, indices=indices, noise_eps=0.1, delta=1e-5, moments=20)\n",
        "print(\"Data Independent Epsilon:\", data_ind_eps)\n",
        "print(\"Data Dependent Epsilon:\", data_dep_eps)"
      ],
      "execution_count": 0,
      "outputs": [
        {
          "output_type": "stream",
          "text": [
            "Data Independent Epsilon: 11.756462732485115\n",
            "Data Dependent Epsilon: 0.9029013677789843\n"
          ],
          "name": "stdout"
        }
      ]
    },
    {
      "cell_type": "code",
      "metadata": {
        "id": "Ru61lFlH5BLV",
        "colab_type": "code",
        "colab": {}
      },
      "source": [
        ""
      ],
      "execution_count": 0,
      "outputs": []
    },
    {
      "cell_type": "markdown",
      "metadata": {
        "id": "tRftnYpb5BLW",
        "colab_type": "text"
      },
      "source": [
        "# Where to Go From Here\n",
        "\n",
        "\n",
        "Read:\n",
        "* Algorithmic Foundations of Differential Privacy: https://www.cis.upenn.edu/~aaroth/Papers/privacybook.pdf\n",
        "* Deep Learning with Differential Privacy: https://arxiv.org/pdf/1607.00133.pdf\n",
        "* The Ethical Algorithm: https://www.amazon.com/Ethical-Algorithm-Science-Socially-Design/dp/0190948205\n",
        "\n",
        "\n",
        "\n",
        "   \n",
        "Topics:\n",
        "* The Exponential Mechanism\n",
        "* The Moment's Accountant\n",
        "*  Differentially Private Stochastic Gradient Descent"
      ]
    },
    {
      "cell_type": "code",
      "metadata": {
        "id": "v-Up664v5BLW",
        "colab_type": "code",
        "colab": {}
      },
      "source": [
        ""
      ],
      "execution_count": 0,
      "outputs": []
    },
    {
      "cell_type": "code",
      "metadata": {
        "id": "kd0GzxPD5BLX",
        "colab_type": "code",
        "colab": {}
      },
      "source": [
        ""
      ],
      "execution_count": 0,
      "outputs": []
    },
    {
      "cell_type": "markdown",
      "metadata": {
        "id": "MhrlyJ3K5BLY",
        "colab_type": "text"
      },
      "source": [
        "# Section Project:\n",
        "\n",
        "For the final project for this section, you're going to train a DP model using this PATE method on the MNIST dataset, provided below."
      ]
    },
    {
      "cell_type": "code",
      "metadata": {
        "id": "5DdPKLJN5BLZ",
        "colab_type": "code",
        "outputId": "13b07513-6219-4274-e206-e429c10b2115",
        "colab": {}
      },
      "source": [
        "import torchvision.datasets as datasets\n",
        "mnist_trainset = datasets.MNIST(root='./data', train=True, download=True, transform=None)"
      ],
      "execution_count": 0,
      "outputs": [
        {
          "output_type": "stream",
          "text": [
            "0it [00:00, ?it/s]"
          ],
          "name": "stderr"
        },
        {
          "output_type": "stream",
          "text": [
            "Downloading http://yann.lecun.com/exdb/mnist/train-images-idx3-ubyte.gz to ./data/MNIST/raw/train-images-idx3-ubyte.gz\n"
          ],
          "name": "stdout"
        },
        {
          "output_type": "stream",
          "text": [
            " 99%|█████████▉| 9814016/9912422 [00:13<00:00, 1981975.99it/s]"
          ],
          "name": "stderr"
        },
        {
          "output_type": "stream",
          "text": [
            "Extracting ./data/MNIST/raw/train-images-idx3-ubyte.gz\n"
          ],
          "name": "stdout"
        },
        {
          "output_type": "stream",
          "text": [
            "\n",
            "0it [00:00, ?it/s]\u001b[A"
          ],
          "name": "stderr"
        },
        {
          "output_type": "stream",
          "text": [
            "Downloading http://yann.lecun.com/exdb/mnist/train-labels-idx1-ubyte.gz to ./data/MNIST/raw/train-labels-idx1-ubyte.gz\n"
          ],
          "name": "stdout"
        },
        {
          "output_type": "stream",
          "text": [
            "\n",
            "  0%|          | 0/28881 [00:00<?, ?it/s]\u001b[A\n",
            " 57%|█████▋    | 16384/28881 [00:00<00:00, 157526.04it/s]\u001b[A\n",
            "32768it [00:00, 89641.49it/s]                            \u001b[A\n",
            "0it [00:00, ?it/s]\u001b[A"
          ],
          "name": "stderr"
        },
        {
          "output_type": "stream",
          "text": [
            "Extracting ./data/MNIST/raw/train-labels-idx1-ubyte.gz\n",
            "Downloading http://yann.lecun.com/exdb/mnist/t10k-images-idx3-ubyte.gz to ./data/MNIST/raw/t10k-images-idx3-ubyte.gz\n"
          ],
          "name": "stdout"
        },
        {
          "output_type": "stream",
          "text": [
            "\n",
            "  0%|          | 0/1648877 [00:00<?, ?it/s]\u001b[A\n",
            "  1%|          | 16384/1648877 [00:00<00:12, 130361.62it/s]\u001b[A\n",
            "  2%|▏         | 40960/1648877 [00:00<00:10, 150807.99it/s]\u001b[A\n",
            "  6%|▌         | 98304/1648877 [00:00<00:08, 192095.89it/s]\u001b[A\n",
            "  9%|▉         | 155648/1648877 [00:00<00:06, 238429.00it/s]\u001b[A\n",
            " 13%|█▎        | 212992/1648877 [00:00<00:05, 286706.68it/s]\u001b[A\n",
            " 16%|█▋        | 270336/1648877 [00:00<00:04, 334215.55it/s]\u001b[A\n",
            " 20%|██        | 335872/1648877 [00:01<00:03, 381238.88it/s]\u001b[A\n",
            " 24%|██▍       | 401408/1648877 [00:01<00:02, 427862.04it/s]\u001b[A\n",
            " 29%|██▉       | 475136/1648877 [00:01<00:02, 473317.53it/s]\u001b[A\n",
            " 33%|███▎      | 548864/1648877 [00:01<00:02, 514677.63it/s]\u001b[A\n",
            " 38%|███▊      | 622592/1648877 [00:01<00:01, 542331.15it/s]\u001b[A\n",
            " 43%|████▎     | 704512/1648877 [00:01<00:01, 574474.97it/s]\u001b[A\n",
            " 48%|████▊     | 786432/1648877 [00:01<00:01, 612895.02it/s]\u001b[A\n",
            " 53%|█████▎    | 868352/1648877 [00:01<00:01, 656129.61it/s]\u001b[A\n",
            " 59%|█████▊    | 966656/1648877 [00:01<00:00, 706437.60it/s]\u001b[A\n",
            " 64%|██████▍   | 1056768/1648877 [00:02<00:00, 752979.15it/s]\u001b[A\n",
            " 69%|██████▉   | 1138688/1648877 [00:02<00:00, 657984.36it/s]\u001b[A\n",
            " 75%|███████▌  | 1236992/1648877 [00:02<00:00, 725740.95it/s]\u001b[A\n",
            " 81%|████████  | 1335296/1648877 [00:02<00:00, 785571.95it/s]\u001b[A\n",
            " 87%|████████▋ | 1441792/1648877 [00:02<00:00, 831515.47it/s]\u001b[A\n",
            " 94%|█████████▍| 1556480/1648877 [00:02<00:00, 887707.79it/s]\u001b[A\n",
            "1654784it [00:02, 619527.52it/s]                             \u001b[A\n",
            "0it [00:00, ?it/s]\u001b[A"
          ],
          "name": "stderr"
        },
        {
          "output_type": "stream",
          "text": [
            "Extracting ./data/MNIST/raw/t10k-images-idx3-ubyte.gz\n",
            "Downloading http://yann.lecun.com/exdb/mnist/t10k-labels-idx1-ubyte.gz to ./data/MNIST/raw/t10k-labels-idx1-ubyte.gz\n"
          ],
          "name": "stdout"
        },
        {
          "output_type": "stream",
          "text": [
            "\n",
            "  0%|          | 0/4542 [00:00<?, ?it/s]\u001b[A\n",
            "8192it [00:00, 33143.73it/s]            \u001b[A"
          ],
          "name": "stderr"
        },
        {
          "output_type": "stream",
          "text": [
            "Extracting ./data/MNIST/raw/t10k-labels-idx1-ubyte.gz\n",
            "Processing...\n",
            "Done!\n"
          ],
          "name": "stdout"
        }
      ]
    },
    {
      "cell_type": "code",
      "metadata": {
        "id": "4g9aXRid5BLa",
        "colab_type": "code",
        "outputId": "d8dd5acb-c866-47dc-a4c5-280177cc0383",
        "colab": {}
      },
      "source": [
        "train_data = mnist_trainset.train_data\n",
        "train_targets = mnist_trainset.train_labels"
      ],
      "execution_count": 0,
      "outputs": [
        {
          "output_type": "stream",
          "text": [
            "/Users/atrask/anaconda/lib/python3.6/site-packages/torchvision/datasets/mnist.py:53: UserWarning: train_data has been renamed data\n",
            "  warnings.warn(\"train_data has been renamed data\")\n",
            "/Users/atrask/anaconda/lib/python3.6/site-packages/torchvision/datasets/mnist.py:43: UserWarning: train_labels has been renamed targets\n",
            "  warnings.warn(\"train_labels has been renamed targets\")\n"
          ],
          "name": "stderr"
        }
      ]
    },
    {
      "cell_type": "code",
      "metadata": {
        "id": "doUE6uzG5BLc",
        "colab_type": "code",
        "outputId": "575a627d-9470-437f-f1e6-cd03f92a2962",
        "colab": {}
      },
      "source": [
        "test_data = mnist_trainset.test_data\n",
        "test_targets = mnist_trainset.test_labels"
      ],
      "execution_count": 0,
      "outputs": [
        {
          "output_type": "stream",
          "text": [
            "/Users/atrask/anaconda/lib/python3.6/site-packages/torchvision/datasets/mnist.py:58: UserWarning: test_data has been renamed data\n",
            "  warnings.warn(\"test_data has been renamed data\")\n",
            "/Users/atrask/anaconda/lib/python3.6/site-packages/torchvision/datasets/mnist.py:48: UserWarning: test_labels has been renamed targets\n",
            "  warnings.warn(\"test_labels has been renamed targets\")\n"
          ],
          "name": "stderr"
        }
      ]
    },
    {
      "cell_type": "code",
      "metadata": {
        "id": "V2vQTugr5BLf",
        "colab_type": "code",
        "colab": {}
      },
      "source": [
        ""
      ],
      "execution_count": 0,
      "outputs": []
    }
  ]
}